{
 "cells": [
  {
   "cell_type": "code",
   "execution_count": 1,
   "metadata": {},
   "outputs": [
    {
     "name": "stderr",
     "output_type": "stream",
     "text": [
      "2024-09-18 15:13:15.456 WARNING streamlit.runtime.scriptrunner_utils.script_run_context: Thread 'MainThread': missing ScriptRunContext! This warning can be ignored when running in bare mode.\n"
     ]
    }
   ],
   "source": [
    "import streamlit as st\n",
    "import pandas as pd\n",
    "import geopandas as gpd\n",
    "import leafmap.foliumap as leafmap\n",
    "from streamlit_folium import st_folium\n",
    "import folium\n",
    "import h3"
   ]
  },
  {
   "cell_type": "code",
   "execution_count": 2,
   "metadata": {},
   "outputs": [
    {
     "name": "stderr",
     "output_type": "stream",
     "text": [
      "2024-09-18 15:13:57.768 WARNING streamlit.runtime.scriptrunner_utils.script_run_context: Thread 'MainThread': missing ScriptRunContext! This warning can be ignored when running in bare mode.\n"
     ]
    }
   ],
   "source": [
    "\n",
    "st.set_page_config(layout=\"wide\")\n",
    "\n",
    "\n"
   ]
  },
  {
   "cell_type": "code",
   "execution_count": null,
   "metadata": {},
   "outputs": [],
   "source": [
    "def rides_h3():\n",
    "    st.title('Rides')\n",
    "    \n",
    "    #upload necessary files for analysis\n",
    "    st.sidebar.title(\"Upload Files\")\n",
    "    rides = st.sidebar.file_uploader(\"Upload the Rides CSV file:\", type=\"csv\")\n",
    "    seaches = st.sidebar.file_uploader(\"Upload the Searches CSV file:\", type=\"csv\")\n",
    "    deployment_spots = st.sidebar.file_uploader(\"Upload the deployment spots downloaded from Admin\", type=\"GeoJson\")\n",
    "\n",
    "    if rides and searches and deployment_spots:\n",
    "        rides_df = pd.read_csv(rides)\n",
    "        searches_df = pd.read_csv(searches)\n",
    "        dpzs = gpd.read_file(deployment_spots)\n"
   ]
  }
 ],
 "metadata": {
  "kernelspec": {
   "display_name": "dpl_krnl",
   "language": "python",
   "name": "deployment"
  },
  "language_info": {
   "codemirror_mode": {
    "name": "ipython",
    "version": 3
   },
   "file_extension": ".py",
   "mimetype": "text/x-python",
   "name": "python",
   "nbconvert_exporter": "python",
   "pygments_lexer": "ipython3",
   "version": "3.12.5"
  }
 },
 "nbformat": 4,
 "nbformat_minor": 2
}

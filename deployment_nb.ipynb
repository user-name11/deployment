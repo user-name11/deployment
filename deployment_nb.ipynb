{
 "cells": [
  {
   "cell_type": "code",
   "execution_count": 2,
   "metadata": {},
   "outputs": [
    {
     "name": "stderr",
     "output_type": "stream",
     "text": [
      "2024-10-17 09:12:02.801 WARNING streamlit.runtime.scriptrunner_utils.script_run_context: Thread 'MainThread': missing ScriptRunContext! This warning can be ignored when running in bare mode.\n"
     ]
    }
   ],
   "source": [
    "import streamlit as st\n",
    "import pandas as pd\n",
    "import geopandas as gpd\n",
    "import leafmap.foliumap as leafmap\n",
    "from streamlit_folium import st_folium\n",
    "import folium\n",
    "import h3"
   ]
  },
  {
   "cell_type": "code",
   "execution_count": 3,
   "metadata": {},
   "outputs": [],
   "source": [
    "path_rides = '/Users/bolt/Downloads/Rides lost, high geospatial resolution (1).csv'\n",
    "path_searches = '/Users/bolt/Downloads/Searches Heatmap WOB Aug24.csv'"
   ]
  },
  {
   "cell_type": "code",
   "execution_count": 4,
   "metadata": {},
   "outputs": [
    {
     "name": "stderr",
     "output_type": "stream",
     "text": [
      "2024-10-17 09:12:02.828 WARNING streamlit.runtime.scriptrunner_utils.script_run_context: Thread 'MainThread': missing ScriptRunContext! This warning can be ignored when running in bare mode.\n"
     ]
    }
   ],
   "source": [
    "\n",
    "st.set_page_config(layout=\"wide\")\n",
    "\n",
    "\n"
   ]
  },
  {
   "cell_type": "code",
   "execution_count": 5,
   "metadata": {},
   "outputs": [],
   "source": [
    "def rides_h3():\n",
    "    st.title('Rides')\n",
    "    \n",
    "    #upload necessary files for analysis\n",
    "    st.sidebar.title(\"Upload Files\")\n",
    "    rides = st.sidebar.file_uploader(\"Upload the Rides CSV file:\", type=\"csv\")\n",
    "    seaches = st.sidebar.file_uploader(\"Upload the Searches CSV file:\", type=\"csv\")\n",
    "    deployment_spots = st.sidebar.file_uploader(\"Upload the deployment spots downloaded from Admin\", type=\"GeoJson\")\n",
    "\n",
    "    if rides and searches and deployment_spots:\n",
    "        rides_df = pd.read_csv(rides)\n",
    "        searches_df = pd.read_csv(searches)\n",
    "        dpzs = gpd.read_file(deployment_spots)\n"
   ]
  },
  {
   "cell_type": "code",
   "execution_count": 6,
   "metadata": {},
   "outputs": [],
   "source": [
    "rides_lost_df = pd.read_csv(path_rides, usecols=lambda column: column not in ['Unnamed: 0'])"
   ]
  },
  {
   "cell_type": "code",
   "execution_count": 7,
   "metadata": {},
   "outputs": [],
   "source": [
    "searches_df = pd.read_csv(path_searches)"
   ]
  },
  {
   "cell_type": "code",
   "execution_count": 8,
   "metadata": {},
   "outputs": [
    {
     "data": {
      "text/html": [
       "<div>\n",
       "<style scoped>\n",
       "    .dataframe tbody tr th:only-of-type {\n",
       "        vertical-align: middle;\n",
       "    }\n",
       "\n",
       "    .dataframe tbody tr th {\n",
       "        vertical-align: top;\n",
       "    }\n",
       "\n",
       "    .dataframe thead th {\n",
       "        text-align: right;\n",
       "    }\n",
       "</style>\n",
       "<table border=\"1\" class=\"dataframe\">\n",
       "  <thead>\n",
       "    <tr style=\"text-align: right;\">\n",
       "      <th></th>\n",
       "      <th>Search Location 3 Digits</th>\n",
       "      <th>Rides lost</th>\n",
       "    </tr>\n",
       "  </thead>\n",
       "  <tbody>\n",
       "    <tr>\n",
       "      <th>0</th>\n",
       "      <td>52.428,10.786</td>\n",
       "      <td>2,224</td>\n",
       "    </tr>\n",
       "    <tr>\n",
       "      <th>1</th>\n",
       "      <td>52.268,10.526</td>\n",
       "      <td>2,031</td>\n",
       "    </tr>\n",
       "    <tr>\n",
       "      <th>2</th>\n",
       "      <td>52.469,10.542</td>\n",
       "      <td>1,781</td>\n",
       "    </tr>\n",
       "    <tr>\n",
       "      <th>3</th>\n",
       "      <td>52.469,10.543</td>\n",
       "      <td>905</td>\n",
       "    </tr>\n",
       "    <tr>\n",
       "      <th>4</th>\n",
       "      <td>52.268,10.525</td>\n",
       "      <td>599</td>\n",
       "    </tr>\n",
       "  </tbody>\n",
       "</table>\n",
       "</div>"
      ],
      "text/plain": [
       "  Search Location 3 Digits Rides lost \n",
       "0            52.428,10.786       2,224\n",
       "1            52.268,10.526       2,031\n",
       "2            52.469,10.542       1,781\n",
       "3            52.469,10.543         905\n",
       "4            52.268,10.525         599"
      ]
     },
     "execution_count": 8,
     "metadata": {},
     "output_type": "execute_result"
    }
   ],
   "source": [
    "rides_lost_df.head(5)"
   ]
  },
  {
   "cell_type": "code",
   "execution_count": 9,
   "metadata": {},
   "outputs": [
    {
     "data": {
      "text/html": [
       "<div>\n",
       "<style scoped>\n",
       "    .dataframe tbody tr th:only-of-type {\n",
       "        vertical-align: middle;\n",
       "    }\n",
       "\n",
       "    .dataframe tbody tr th {\n",
       "        vertical-align: top;\n",
       "    }\n",
       "\n",
       "    .dataframe thead th {\n",
       "        text-align: right;\n",
       "    }\n",
       "</style>\n",
       "<table border=\"1\" class=\"dataframe\">\n",
       "  <thead>\n",
       "    <tr style=\"text-align: right;\">\n",
       "      <th></th>\n",
       "      <th>Location</th>\n",
       "      <th>Count Search Session</th>\n",
       "    </tr>\n",
       "  </thead>\n",
       "  <tbody>\n",
       "    <tr>\n",
       "      <th>0</th>\n",
       "      <td>52.428,10.786</td>\n",
       "      <td>8,341</td>\n",
       "    </tr>\n",
       "    <tr>\n",
       "      <th>1</th>\n",
       "      <td>52.268,10.526</td>\n",
       "      <td>8,337</td>\n",
       "    </tr>\n",
       "    <tr>\n",
       "      <th>2</th>\n",
       "      <td>52.469,10.542</td>\n",
       "      <td>8,264</td>\n",
       "    </tr>\n",
       "    <tr>\n",
       "      <th>3</th>\n",
       "      <td>52.429,10.787</td>\n",
       "      <td>1,992</td>\n",
       "    </tr>\n",
       "    <tr>\n",
       "      <th>4</th>\n",
       "      <td>52.253,10.539</td>\n",
       "      <td>1,640</td>\n",
       "    </tr>\n",
       "  </tbody>\n",
       "</table>\n",
       "</div>"
      ],
      "text/plain": [
       "        Location Count Search Session\n",
       "0  52.428,10.786                8,341\n",
       "1  52.268,10.526                8,337\n",
       "2  52.469,10.542                8,264\n",
       "3  52.429,10.787                1,992\n",
       "4  52.253,10.539                1,640"
      ]
     },
     "execution_count": 9,
     "metadata": {},
     "output_type": "execute_result"
    }
   ],
   "source": [
    "searches_df.head(5)"
   ]
  },
  {
   "cell_type": "code",
   "execution_count": 10,
   "metadata": {},
   "outputs": [
    {
     "data": {
      "text/plain": [
       "Index(['Search Location 3 Digits', 'Rides lost '], dtype='object')"
      ]
     },
     "execution_count": 10,
     "metadata": {},
     "output_type": "execute_result"
    }
   ],
   "source": [
    "rides_lost_df.columns"
   ]
  },
  {
   "cell_type": "code",
   "execution_count": 11,
   "metadata": {},
   "outputs": [
    {
     "data": {
      "text/plain": [
       "Index(['Search Location 3 Digits', 'Rides lost '], dtype='object')"
      ]
     },
     "execution_count": 11,
     "metadata": {},
     "output_type": "execute_result"
    }
   ],
   "source": [
    "rides_lost_df.columns"
   ]
  },
  {
   "cell_type": "code",
   "execution_count": 12,
   "metadata": {},
   "outputs": [
    {
     "data": {
      "text/plain": [
       "(5001, 2)"
      ]
     },
     "execution_count": 12,
     "metadata": {},
     "output_type": "execute_result"
    }
   ],
   "source": [
    "rides_lost_df.shape"
   ]
  },
  {
   "cell_type": "code",
   "execution_count": 13,
   "metadata": {},
   "outputs": [
    {
     "data": {
      "text/plain": [
       "Search Location 3 Digits       NaN\n",
       "Rides lost                  32,343\n",
       "Name: 5000, dtype: object"
      ]
     },
     "execution_count": 13,
     "metadata": {},
     "output_type": "execute_result"
    }
   ],
   "source": [
    "rides_lost_df.iloc[5000]"
   ]
  },
  {
   "cell_type": "code",
   "execution_count": null,
   "metadata": {},
   "outputs": [],
   "source": []
  },
  {
   "cell_type": "code",
   "execution_count": 14,
   "metadata": {},
   "outputs": [],
   "source": [
    "df_ = rides_lost_df.iloc[:-1]"
   ]
  },
  {
   "cell_type": "code",
   "execution_count": 15,
   "metadata": {},
   "outputs": [
    {
     "data": {
      "text/plain": [
       "pandas.core.frame.DataFrame"
      ]
     },
     "execution_count": 15,
     "metadata": {},
     "output_type": "execute_result"
    }
   ],
   "source": [
    "type(rides_lost_df)"
   ]
  },
  {
   "cell_type": "code",
   "execution_count": 16,
   "metadata": {},
   "outputs": [],
   "source": [
    "df_.to_csv('test_lost_rides.csv')"
   ]
  },
  {
   "cell_type": "code",
   "execution_count": 17,
   "metadata": {},
   "outputs": [],
   "source": [
    "df = df_[df_['Search Location 3 Digits']!= 0]"
   ]
  },
  {
   "cell_type": "code",
   "execution_count": 18,
   "metadata": {},
   "outputs": [
    {
     "data": {
      "text/plain": [
       "(5000, 2)"
      ]
     },
     "execution_count": 18,
     "metadata": {},
     "output_type": "execute_result"
    }
   ],
   "source": [
    "df_.shape"
   ]
  },
  {
   "cell_type": "code",
   "execution_count": 19,
   "metadata": {},
   "outputs": [
    {
     "data": {
      "text/plain": [
       "<bound method NDFrame.describe of      Search Location 3 Digits Rides lost \n",
       "0               52.428,10.786       2,224\n",
       "1               52.268,10.526       2,031\n",
       "2               52.469,10.542       1,781\n",
       "3               52.469,10.543         905\n",
       "4               52.268,10.525         599\n",
       "...                       ...         ...\n",
       "4996            52.436,10.745           1\n",
       "4997            52.277,10.569           2\n",
       "4998            52.397,10.693           1\n",
       "4999            52.241,10.491           1\n",
       "5000                      NaN      32,343\n",
       "\n",
       "[5001 rows x 2 columns]>"
      ]
     },
     "execution_count": 19,
     "metadata": {},
     "output_type": "execute_result"
    }
   ],
   "source": [
    "rides_lost_df.describe"
   ]
  },
  {
   "cell_type": "code",
   "execution_count": 20,
   "metadata": {},
   "outputs": [
    {
     "data": {
      "text/html": [
       "<div>\n",
       "<style scoped>\n",
       "    .dataframe tbody tr th:only-of-type {\n",
       "        vertical-align: middle;\n",
       "    }\n",
       "\n",
       "    .dataframe tbody tr th {\n",
       "        vertical-align: top;\n",
       "    }\n",
       "\n",
       "    .dataframe thead th {\n",
       "        text-align: right;\n",
       "    }\n",
       "</style>\n",
       "<table border=\"1\" class=\"dataframe\">\n",
       "  <thead>\n",
       "    <tr style=\"text-align: right;\">\n",
       "      <th></th>\n",
       "      <th>Search Location 3 Digits</th>\n",
       "      <th>Rides lost</th>\n",
       "    </tr>\n",
       "  </thead>\n",
       "  <tbody>\n",
       "    <tr>\n",
       "      <th>3</th>\n",
       "      <td>52.469,10.543</td>\n",
       "      <td>905</td>\n",
       "    </tr>\n",
       "    <tr>\n",
       "      <th>452</th>\n",
       "      <td>52.251,10.484</td>\n",
       "      <td>9</td>\n",
       "    </tr>\n",
       "    <tr>\n",
       "      <th>487</th>\n",
       "      <td>52.262,10.525</td>\n",
       "      <td>9</td>\n",
       "    </tr>\n",
       "    <tr>\n",
       "      <th>857</th>\n",
       "      <td>52.42,10.78</td>\n",
       "      <td>9</td>\n",
       "    </tr>\n",
       "    <tr>\n",
       "      <th>1082</th>\n",
       "      <td>52.3,10.546</td>\n",
       "      <td>9</td>\n",
       "    </tr>\n",
       "    <tr>\n",
       "      <th>...</th>\n",
       "      <td>...</td>\n",
       "      <td>...</td>\n",
       "    </tr>\n",
       "    <tr>\n",
       "      <th>4369</th>\n",
       "      <td>52.24,10.499</td>\n",
       "      <td>0</td>\n",
       "    </tr>\n",
       "    <tr>\n",
       "      <th>4370</th>\n",
       "      <td>52.458,10.502</td>\n",
       "      <td>0</td>\n",
       "    </tr>\n",
       "    <tr>\n",
       "      <th>4372</th>\n",
       "      <td>52.279,10.528</td>\n",
       "      <td>0</td>\n",
       "    </tr>\n",
       "    <tr>\n",
       "      <th>3522</th>\n",
       "      <td>52.253,10.544</td>\n",
       "      <td>0</td>\n",
       "    </tr>\n",
       "    <tr>\n",
       "      <th>3381</th>\n",
       "      <td>52.429,10.825</td>\n",
       "      <td>0</td>\n",
       "    </tr>\n",
       "  </tbody>\n",
       "</table>\n",
       "<p>5000 rows × 2 columns</p>\n",
       "</div>"
      ],
      "text/plain": [
       "     Search Location 3 Digits Rides lost \n",
       "3               52.469,10.543         905\n",
       "452             52.251,10.484           9\n",
       "487             52.262,10.525           9\n",
       "857               52.42,10.78           9\n",
       "1082              52.3,10.546           9\n",
       "...                       ...         ...\n",
       "4369             52.24,10.499           0\n",
       "4370            52.458,10.502           0\n",
       "4372            52.279,10.528           0\n",
       "3522            52.253,10.544           0\n",
       "3381            52.429,10.825           0\n",
       "\n",
       "[5000 rows x 2 columns]"
      ]
     },
     "execution_count": 20,
     "metadata": {},
     "output_type": "execute_result"
    }
   ],
   "source": [
    "df_.sort_values(by=\"Rides lost \", ascending=False)"
   ]
  },
  {
   "cell_type": "code",
   "execution_count": 21,
   "metadata": {},
   "outputs": [
    {
     "data": {
      "text/plain": [
       "(5000, 2)"
      ]
     },
     "execution_count": 21,
     "metadata": {},
     "output_type": "execute_result"
    }
   ],
   "source": [
    "df.shape"
   ]
  },
  {
   "cell_type": "code",
   "execution_count": 22,
   "metadata": {},
   "outputs": [
    {
     "data": {
      "text/plain": [
       "(5000, 2)"
      ]
     },
     "execution_count": 22,
     "metadata": {},
     "output_type": "execute_result"
    }
   ],
   "source": [
    "df.shape"
   ]
  },
  {
   "cell_type": "code",
   "execution_count": 23,
   "metadata": {},
   "outputs": [],
   "source": [
    "df_ = df_[df_['Rides lost '] != 0]"
   ]
  },
  {
   "cell_type": "code",
   "execution_count": 24,
   "metadata": {},
   "outputs": [
    {
     "data": {
      "text/plain": [
       "'0'"
      ]
     },
     "execution_count": 24,
     "metadata": {},
     "output_type": "execute_result"
    }
   ],
   "source": [
    "df_['Rides lost '].min()"
   ]
  },
  {
   "cell_type": "code",
   "execution_count": 25,
   "metadata": {},
   "outputs": [
    {
     "data": {
      "text/html": [
       "<div>\n",
       "<style scoped>\n",
       "    .dataframe tbody tr th:only-of-type {\n",
       "        vertical-align: middle;\n",
       "    }\n",
       "\n",
       "    .dataframe tbody tr th {\n",
       "        vertical-align: top;\n",
       "    }\n",
       "\n",
       "    .dataframe thead th {\n",
       "        text-align: right;\n",
       "    }\n",
       "</style>\n",
       "<table border=\"1\" class=\"dataframe\">\n",
       "  <thead>\n",
       "    <tr style=\"text-align: right;\">\n",
       "      <th></th>\n",
       "      <th>Search Location 3 Digits</th>\n",
       "      <th>Rides lost</th>\n",
       "    </tr>\n",
       "  </thead>\n",
       "  <tbody>\n",
       "    <tr>\n",
       "      <th>0</th>\n",
       "      <td>52.428,10.786</td>\n",
       "      <td>2,224</td>\n",
       "    </tr>\n",
       "    <tr>\n",
       "      <th>1</th>\n",
       "      <td>52.268,10.526</td>\n",
       "      <td>2,031</td>\n",
       "    </tr>\n",
       "    <tr>\n",
       "      <th>2</th>\n",
       "      <td>52.469,10.542</td>\n",
       "      <td>1,781</td>\n",
       "    </tr>\n",
       "    <tr>\n",
       "      <th>3</th>\n",
       "      <td>52.469,10.543</td>\n",
       "      <td>905</td>\n",
       "    </tr>\n",
       "    <tr>\n",
       "      <th>4</th>\n",
       "      <td>52.268,10.525</td>\n",
       "      <td>599</td>\n",
       "    </tr>\n",
       "    <tr>\n",
       "      <th>...</th>\n",
       "      <td>...</td>\n",
       "      <td>...</td>\n",
       "    </tr>\n",
       "    <tr>\n",
       "      <th>4995</th>\n",
       "      <td>52.233,10.506</td>\n",
       "      <td>1</td>\n",
       "    </tr>\n",
       "    <tr>\n",
       "      <th>4996</th>\n",
       "      <td>52.436,10.745</td>\n",
       "      <td>1</td>\n",
       "    </tr>\n",
       "    <tr>\n",
       "      <th>4997</th>\n",
       "      <td>52.277,10.569</td>\n",
       "      <td>2</td>\n",
       "    </tr>\n",
       "    <tr>\n",
       "      <th>4998</th>\n",
       "      <td>52.397,10.693</td>\n",
       "      <td>1</td>\n",
       "    </tr>\n",
       "    <tr>\n",
       "      <th>4999</th>\n",
       "      <td>52.241,10.491</td>\n",
       "      <td>1</td>\n",
       "    </tr>\n",
       "  </tbody>\n",
       "</table>\n",
       "<p>5000 rows × 2 columns</p>\n",
       "</div>"
      ],
      "text/plain": [
       "     Search Location 3 Digits Rides lost \n",
       "0               52.428,10.786       2,224\n",
       "1               52.268,10.526       2,031\n",
       "2               52.469,10.542       1,781\n",
       "3               52.469,10.543         905\n",
       "4               52.268,10.525         599\n",
       "...                       ...         ...\n",
       "4995            52.233,10.506           1\n",
       "4996            52.436,10.745           1\n",
       "4997            52.277,10.569           2\n",
       "4998            52.397,10.693           1\n",
       "4999            52.241,10.491           1\n",
       "\n",
       "[5000 rows x 2 columns]"
      ]
     },
     "execution_count": 25,
     "metadata": {},
     "output_type": "execute_result"
    }
   ],
   "source": [
    "df_"
   ]
  },
  {
   "cell_type": "code",
   "execution_count": 26,
   "metadata": {},
   "outputs": [],
   "source": [
    "df_['Rides lost '] = df_['Rides lost '].str.replace(',', '').astype(int)"
   ]
  },
  {
   "cell_type": "code",
   "execution_count": 27,
   "metadata": {},
   "outputs": [
    {
     "data": {
      "text/plain": [
       "514"
      ]
     },
     "execution_count": 27,
     "metadata": {},
     "output_type": "execute_result"
    }
   ],
   "source": [
    "df_['Rides lost '].value_counts().get(0,0)"
   ]
  },
  {
   "cell_type": "markdown",
   "metadata": {},
   "source": [
    "df2 = df_[df_['Rides lost '] != 0]"
   ]
  },
  {
   "cell_type": "code",
   "execution_count": 28,
   "metadata": {},
   "outputs": [
    {
     "data": {
      "text/html": [
       "<div>\n",
       "<style scoped>\n",
       "    .dataframe tbody tr th:only-of-type {\n",
       "        vertical-align: middle;\n",
       "    }\n",
       "\n",
       "    .dataframe tbody tr th {\n",
       "        vertical-align: top;\n",
       "    }\n",
       "\n",
       "    .dataframe thead th {\n",
       "        text-align: right;\n",
       "    }\n",
       "</style>\n",
       "<table border=\"1\" class=\"dataframe\">\n",
       "  <thead>\n",
       "    <tr style=\"text-align: right;\">\n",
       "      <th></th>\n",
       "      <th>Search Location 3 Digits</th>\n",
       "      <th>Rides lost</th>\n",
       "    </tr>\n",
       "  </thead>\n",
       "  <tbody>\n",
       "    <tr>\n",
       "      <th>0</th>\n",
       "      <td>52.428,10.786</td>\n",
       "      <td>2224</td>\n",
       "    </tr>\n",
       "    <tr>\n",
       "      <th>1</th>\n",
       "      <td>52.268,10.526</td>\n",
       "      <td>2031</td>\n",
       "    </tr>\n",
       "    <tr>\n",
       "      <th>2</th>\n",
       "      <td>52.469,10.542</td>\n",
       "      <td>1781</td>\n",
       "    </tr>\n",
       "    <tr>\n",
       "      <th>3</th>\n",
       "      <td>52.469,10.543</td>\n",
       "      <td>905</td>\n",
       "    </tr>\n",
       "    <tr>\n",
       "      <th>4</th>\n",
       "      <td>52.268,10.525</td>\n",
       "      <td>599</td>\n",
       "    </tr>\n",
       "    <tr>\n",
       "      <th>...</th>\n",
       "      <td>...</td>\n",
       "      <td>...</td>\n",
       "    </tr>\n",
       "    <tr>\n",
       "      <th>4369</th>\n",
       "      <td>52.24,10.499</td>\n",
       "      <td>0</td>\n",
       "    </tr>\n",
       "    <tr>\n",
       "      <th>4370</th>\n",
       "      <td>52.458,10.502</td>\n",
       "      <td>0</td>\n",
       "    </tr>\n",
       "    <tr>\n",
       "      <th>4372</th>\n",
       "      <td>52.279,10.528</td>\n",
       "      <td>0</td>\n",
       "    </tr>\n",
       "    <tr>\n",
       "      <th>3522</th>\n",
       "      <td>52.253,10.544</td>\n",
       "      <td>0</td>\n",
       "    </tr>\n",
       "    <tr>\n",
       "      <th>3381</th>\n",
       "      <td>52.429,10.825</td>\n",
       "      <td>0</td>\n",
       "    </tr>\n",
       "  </tbody>\n",
       "</table>\n",
       "<p>5000 rows × 2 columns</p>\n",
       "</div>"
      ],
      "text/plain": [
       "     Search Location 3 Digits  Rides lost \n",
       "0               52.428,10.786         2224\n",
       "1               52.268,10.526         2031\n",
       "2               52.469,10.542         1781\n",
       "3               52.469,10.543          905\n",
       "4               52.268,10.525          599\n",
       "...                       ...          ...\n",
       "4369             52.24,10.499            0\n",
       "4370            52.458,10.502            0\n",
       "4372            52.279,10.528            0\n",
       "3522            52.253,10.544            0\n",
       "3381            52.429,10.825            0\n",
       "\n",
       "[5000 rows x 2 columns]"
      ]
     },
     "execution_count": 28,
     "metadata": {},
     "output_type": "execute_result"
    }
   ],
   "source": [
    "df_.sort_values(by='Rides lost ', ascending=False)"
   ]
  },
  {
   "cell_type": "code",
   "execution_count": 29,
   "metadata": {},
   "outputs": [],
   "source": [
    "df_ = df_[df_['Rides lost '] != 0]"
   ]
  },
  {
   "cell_type": "code",
   "execution_count": 30,
   "metadata": {},
   "outputs": [
    {
     "data": {
      "text/plain": [
       "(4486, 2)"
      ]
     },
     "execution_count": 30,
     "metadata": {},
     "output_type": "execute_result"
    }
   ],
   "source": [
    "df_.shape"
   ]
  },
  {
   "cell_type": "code",
   "execution_count": 32,
   "metadata": {},
   "outputs": [],
   "source": [
    "rides = pd.read_csv('/Users/bolt/Downloads/Rentals rides list WOB Week4 Aug.csv')\n",
    "lost = pd.read_csv('/Users/bolt/Downloads/Rides lost, high geospatial resolution (2).csv')"
   ]
  },
  {
   "cell_type": "code",
   "execution_count": 34,
   "metadata": {},
   "outputs": [
    {
     "data": {
      "text/html": [
       "<div>\n",
       "<style scoped>\n",
       "    .dataframe tbody tr th:only-of-type {\n",
       "        vertical-align: middle;\n",
       "    }\n",
       "\n",
       "    .dataframe tbody tr th {\n",
       "        vertical-align: top;\n",
       "    }\n",
       "\n",
       "    .dataframe thead th {\n",
       "        text-align: right;\n",
       "    }\n",
       "</style>\n",
       "<table border=\"1\" class=\"dataframe\">\n",
       "  <thead>\n",
       "    <tr style=\"text-align: right;\">\n",
       "      <th></th>\n",
       "      <th>Unnamed: 0</th>\n",
       "      <th>ID</th>\n",
       "      <th>Created Time</th>\n",
       "      <th>Pickup Lat</th>\n",
       "      <th>Pickup Lng</th>\n",
       "      <th>Dropoff Lat</th>\n",
       "      <th>Dropoff Lng</th>\n",
       "      <th>Order Duration, minutes</th>\n",
       "      <th>Vehicle Type</th>\n",
       "      <th>Vehicle Type Scooter or Bike</th>\n",
       "      <th>Battery At Start</th>\n",
       "      <th>Battery In End</th>\n",
       "      <th>Order Distance</th>\n",
       "      <th>Finish Reason</th>\n",
       "      <th>Uuid</th>\n",
       "      <th>User ID</th>\n",
       "      <th>State</th>\n",
       "      <th>Sum of Price Eur</th>\n",
       "    </tr>\n",
       "  </thead>\n",
       "  <tbody>\n",
       "    <tr>\n",
       "      <th>0</th>\n",
       "      <td>1</td>\n",
       "      <td>133311192</td>\n",
       "      <td>2024-08-31 23:59:28</td>\n",
       "      <td>52.478760</td>\n",
       "      <td>10.546554</td>\n",
       "      <td>52.481117</td>\n",
       "      <td>10.520205</td>\n",
       "      <td>8.3</td>\n",
       "      <td>Cobra</td>\n",
       "      <td>scooters</td>\n",
       "      <td>91.0%</td>\n",
       "      <td>85.0%</td>\n",
       "      <td>2,607.0</td>\n",
       "      <td>by_user</td>\n",
       "      <td>203-395</td>\n",
       "      <td>190340975</td>\n",
       "      <td>finished</td>\n",
       "      <td>2.5</td>\n",
       "    </tr>\n",
       "    <tr>\n",
       "      <th>1</th>\n",
       "      <td>2</td>\n",
       "      <td>133311126</td>\n",
       "      <td>2024-08-31 23:59:03</td>\n",
       "      <td>52.286930</td>\n",
       "      <td>10.539032</td>\n",
       "      <td>52.278873</td>\n",
       "      <td>10.519790</td>\n",
       "      <td>7.9</td>\n",
       "      <td>Cobra</td>\n",
       "      <td>scooters</td>\n",
       "      <td>66.0%</td>\n",
       "      <td>61.0%</td>\n",
       "      <td>2,030.0</td>\n",
       "      <td>by_user</td>\n",
       "      <td>993-903</td>\n",
       "      <td>76334317</td>\n",
       "      <td>finished</td>\n",
       "      <td>2.9</td>\n",
       "    </tr>\n",
       "    <tr>\n",
       "      <th>2</th>\n",
       "      <td>3</td>\n",
       "      <td>133311097</td>\n",
       "      <td>2024-08-31 23:58:49</td>\n",
       "      <td>52.423069</td>\n",
       "      <td>10.729268</td>\n",
       "      <td>52.419987</td>\n",
       "      <td>10.715425</td>\n",
       "      <td>4.6</td>\n",
       "      <td>Cobra</td>\n",
       "      <td>scooters</td>\n",
       "      <td>84.0%</td>\n",
       "      <td>79.0%</td>\n",
       "      <td>1,284.0</td>\n",
       "      <td>by_user</td>\n",
       "      <td>463-700</td>\n",
       "      <td>104779783</td>\n",
       "      <td>finished</td>\n",
       "      <td>0.0</td>\n",
       "    </tr>\n",
       "    <tr>\n",
       "      <th>3</th>\n",
       "      <td>4</td>\n",
       "      <td>133311013</td>\n",
       "      <td>2024-08-31 23:57:42</td>\n",
       "      <td>52.269802</td>\n",
       "      <td>10.501383</td>\n",
       "      <td>52.275017</td>\n",
       "      <td>10.521805</td>\n",
       "      <td>4.9</td>\n",
       "      <td>Cobra</td>\n",
       "      <td>scooters</td>\n",
       "      <td>83.0%</td>\n",
       "      <td>79.0%</td>\n",
       "      <td>1,569.0</td>\n",
       "      <td>by_user</td>\n",
       "      <td>666-895</td>\n",
       "      <td>81577629</td>\n",
       "      <td>finished</td>\n",
       "      <td>1.8</td>\n",
       "    </tr>\n",
       "    <tr>\n",
       "      <th>4</th>\n",
       "      <td>5</td>\n",
       "      <td>133311000</td>\n",
       "      <td>2024-08-31 23:57:33</td>\n",
       "      <td>52.265549</td>\n",
       "      <td>10.536510</td>\n",
       "      <td>52.261620</td>\n",
       "      <td>10.502745</td>\n",
       "      <td>10.0</td>\n",
       "      <td>Cobra</td>\n",
       "      <td>scooters</td>\n",
       "      <td>61.0%</td>\n",
       "      <td>53.0%</td>\n",
       "      <td>2,523.0</td>\n",
       "      <td>by_user</td>\n",
       "      <td>086-618</td>\n",
       "      <td>91720671</td>\n",
       "      <td>finished</td>\n",
       "      <td>2.9</td>\n",
       "    </tr>\n",
       "  </tbody>\n",
       "</table>\n",
       "</div>"
      ],
      "text/plain": [
       "   Unnamed: 0         ID         Created Time  Pickup Lat  Pickup Lng  \\\n",
       "0           1  133311192  2024-08-31 23:59:28   52.478760   10.546554   \n",
       "1           2  133311126  2024-08-31 23:59:03   52.286930   10.539032   \n",
       "2           3  133311097  2024-08-31 23:58:49   52.423069   10.729268   \n",
       "3           4  133311013  2024-08-31 23:57:42   52.269802   10.501383   \n",
       "4           5  133311000  2024-08-31 23:57:33   52.265549   10.536510   \n",
       "\n",
       "   Dropoff Lat  Dropoff Lng  Order Duration, minutes Vehicle Type  \\\n",
       "0    52.481117    10.520205                      8.3        Cobra   \n",
       "1    52.278873    10.519790                      7.9        Cobra   \n",
       "2    52.419987    10.715425                      4.6        Cobra   \n",
       "3    52.275017    10.521805                      4.9        Cobra   \n",
       "4    52.261620    10.502745                     10.0        Cobra   \n",
       "\n",
       "  Vehicle Type Scooter or Bike Battery At Start Battery In End Order Distance  \\\n",
       "0                     scooters            91.0%          85.0%        2,607.0   \n",
       "1                     scooters            66.0%          61.0%        2,030.0   \n",
       "2                     scooters            84.0%          79.0%        1,284.0   \n",
       "3                     scooters            83.0%          79.0%        1,569.0   \n",
       "4                     scooters            61.0%          53.0%        2,523.0   \n",
       "\n",
       "  Finish Reason     Uuid    User ID     State  Sum of Price Eur  \n",
       "0       by_user  203-395  190340975  finished               2.5  \n",
       "1       by_user  993-903   76334317  finished               2.9  \n",
       "2       by_user  463-700  104779783  finished               0.0  \n",
       "3       by_user  666-895   81577629  finished               1.8  \n",
       "4       by_user  086-618   91720671  finished               2.9  "
      ]
     },
     "execution_count": 34,
     "metadata": {},
     "output_type": "execute_result"
    }
   ],
   "source": [
    "rides.head(5)"
   ]
  },
  {
   "cell_type": "code",
   "execution_count": 35,
   "metadata": {},
   "outputs": [
    {
     "data": {
      "text/html": [
       "<div>\n",
       "<style scoped>\n",
       "    .dataframe tbody tr th:only-of-type {\n",
       "        vertical-align: middle;\n",
       "    }\n",
       "\n",
       "    .dataframe tbody tr th {\n",
       "        vertical-align: top;\n",
       "    }\n",
       "\n",
       "    .dataframe thead th {\n",
       "        text-align: right;\n",
       "    }\n",
       "</style>\n",
       "<table border=\"1\" class=\"dataframe\">\n",
       "  <thead>\n",
       "    <tr style=\"text-align: right;\">\n",
       "      <th></th>\n",
       "      <th>Unnamed: 0</th>\n",
       "      <th>Search Location 3 Digits</th>\n",
       "      <th>Rides lost</th>\n",
       "    </tr>\n",
       "  </thead>\n",
       "  <tbody>\n",
       "    <tr>\n",
       "      <th>0</th>\n",
       "      <td>1.0</td>\n",
       "      <td>52.428,10.786</td>\n",
       "      <td>1,219</td>\n",
       "    </tr>\n",
       "    <tr>\n",
       "      <th>1</th>\n",
       "      <td>2.0</td>\n",
       "      <td>52.268,10.526</td>\n",
       "      <td>1,084</td>\n",
       "    </tr>\n",
       "    <tr>\n",
       "      <th>2</th>\n",
       "      <td>3.0</td>\n",
       "      <td>52.469,10.542</td>\n",
       "      <td>996</td>\n",
       "    </tr>\n",
       "    <tr>\n",
       "      <th>3</th>\n",
       "      <td>4.0</td>\n",
       "      <td>52.469,10.543</td>\n",
       "      <td>478</td>\n",
       "    </tr>\n",
       "    <tr>\n",
       "      <th>4</th>\n",
       "      <td>5.0</td>\n",
       "      <td>52.268,10.525</td>\n",
       "      <td>351</td>\n",
       "    </tr>\n",
       "  </tbody>\n",
       "</table>\n",
       "</div>"
      ],
      "text/plain": [
       "   Unnamed: 0 Search Location 3 Digits Rides lost \n",
       "0         1.0            52.428,10.786       1,219\n",
       "1         2.0            52.268,10.526       1,084\n",
       "2         3.0            52.469,10.542         996\n",
       "3         4.0            52.469,10.543         478\n",
       "4         5.0            52.268,10.525         351"
      ]
     },
     "execution_count": 35,
     "metadata": {},
     "output_type": "execute_result"
    }
   ],
   "source": [
    "lost.head(5)"
   ]
  },
  {
   "cell_type": "code",
   "execution_count": null,
   "metadata": {},
   "outputs": [],
   "source": []
  }
 ],
 "metadata": {
  "kernelspec": {
   "display_name": "dpl_krnl",
   "language": "python",
   "name": "deployment"
  },
  "language_info": {
   "codemirror_mode": {
    "name": "ipython",
    "version": 3
   },
   "file_extension": ".py",
   "mimetype": "text/x-python",
   "name": "python",
   "nbconvert_exporter": "python",
   "pygments_lexer": "ipython3",
   "version": "3.12.2"
  }
 },
 "nbformat": 4,
 "nbformat_minor": 2
}

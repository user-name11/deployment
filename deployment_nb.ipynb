{
 "cells": [
  {
   "cell_type": "code",
   "execution_count": 4,
   "metadata": {},
   "outputs": [
    {
     "ename": "ModuleNotFoundError",
     "evalue": "No module named 'pandas'",
     "output_type": "error",
     "traceback": [
      "\u001b[0;31m---------------------------------------------------------------------------\u001b[0m",
      "\u001b[0;31mModuleNotFoundError\u001b[0m                       Traceback (most recent call last)",
      "Cell \u001b[0;32mIn[4], line 2\u001b[0m\n\u001b[1;32m      1\u001b[0m \u001b[38;5;66;03m#import streamlit as st\u001b[39;00m\n\u001b[0;32m----> 2\u001b[0m \u001b[38;5;28;01mimport\u001b[39;00m \u001b[38;5;21;01mpandas\u001b[39;00m \u001b[38;5;28;01mas\u001b[39;00m \u001b[38;5;21;01mpd\u001b[39;00m\n\u001b[1;32m      3\u001b[0m \u001b[38;5;28;01mimport\u001b[39;00m \u001b[38;5;21;01mgeopandas\u001b[39;00m \u001b[38;5;28;01mas\u001b[39;00m \u001b[38;5;21;01mgpd\u001b[39;00m\n\u001b[1;32m      4\u001b[0m \u001b[38;5;28;01mimport\u001b[39;00m \u001b[38;5;21;01mleafmap\u001b[39;00m\u001b[38;5;21;01m.\u001b[39;00m\u001b[38;5;21;01mfoliumap\u001b[39;00m \u001b[38;5;28;01mas\u001b[39;00m \u001b[38;5;21;01mleafmap\u001b[39;00m\n",
      "\u001b[0;31mModuleNotFoundError\u001b[0m: No module named 'pandas'"
     ]
    }
   ],
   "source": [
    "#import streamlit as st\n",
    "import pandas as pd\n",
    "import geopandas as gpd\n",
    "import leafmap.foliumap as leafmap\n",
    "from streamlit_folium import st_folium\n",
    "import folium\n",
    "import h3\n",
    "import json"
   ]
  },
  {
   "cell_type": "code",
   "execution_count": 3,
   "metadata": {},
   "outputs": [],
   "source": [
    "path_rides = '/Users/bolt/Downloads/Rides lost, high geospatial resolution (1).csv'\n",
    "path_searches = '/Users/bolt/Downloads/Searches Heatmap WOB Aug24.csv'"
   ]
  },
  {
   "cell_type": "code",
   "execution_count": 4,
   "metadata": {},
   "outputs": [
    {
     "name": "stderr",
     "output_type": "stream",
     "text": [
      "2024-10-17 09:12:02.828 WARNING streamlit.runtime.scriptrunner_utils.script_run_context: Thread 'MainThread': missing ScriptRunContext! This warning can be ignored when running in bare mode.\n"
     ]
    }
   ],
   "source": [
    "\n",
    "st.set_page_config(layout=\"wide\")\n",
    "\n",
    "\n"
   ]
  },
  {
   "cell_type": "code",
   "execution_count": 5,
   "metadata": {},
   "outputs": [],
   "source": [
    "def rides_h3():\n",
    "    st.title('Rides')\n",
    "    \n",
    "    #upload necessary files for analysis\n",
    "    st.sidebar.title(\"Upload Files\")\n",
    "    rides = st.sidebar.file_uploader(\"Upload the Rides CSV file:\", type=\"csv\")\n",
    "    seaches = st.sidebar.file_uploader(\"Upload the Searches CSV file:\", type=\"csv\")\n",
    "    deployment_spots = st.sidebar.file_uploader(\"Upload the deployment spots downloaded from Admin\", type=\"GeoJson\")\n",
    "\n",
    "    if rides and searches and deployment_spots:\n",
    "        rides_df = pd.read_csv(rides)\n",
    "        searches_df = pd.read_csv(searches)\n",
    "        dpzs = gpd.read_file(deployment_spots)\n"
   ]
  },
  {
   "cell_type": "code",
   "execution_count": 2,
   "metadata": {},
   "outputs": [
    {
     "ename": "NameError",
     "evalue": "name 'pd' is not defined",
     "output_type": "error",
     "traceback": [
      "\u001b[0;31m---------------------------------------------------------------------------\u001b[0m",
      "\u001b[0;31mNameError\u001b[0m                                 Traceback (most recent call last)",
      "Cell \u001b[0;32mIn[2], line 1\u001b[0m\n\u001b[0;32m----> 1\u001b[0m rides_lost_df \u001b[38;5;241m=\u001b[39m \u001b[43mpd\u001b[49m\u001b[38;5;241m.\u001b[39mread_csv(path_rides, usecols\u001b[38;5;241m=\u001b[39m\u001b[38;5;28;01mlambda\u001b[39;00m column: column \u001b[38;5;129;01mnot\u001b[39;00m \u001b[38;5;129;01min\u001b[39;00m [\u001b[38;5;124m'\u001b[39m\u001b[38;5;124mUnnamed: 0\u001b[39m\u001b[38;5;124m'\u001b[39m])\n",
      "\u001b[0;31mNameError\u001b[0m: name 'pd' is not defined"
     ]
    }
   ],
   "source": [
    "rides_lost_df = pd.read_csv(path_rides, usecols=lambda column: column not in ['Unnamed: 0'])"
   ]
  },
  {
   "cell_type": "code",
   "execution_count": 7,
   "metadata": {},
   "outputs": [],
   "source": [
    "searches_df = pd.read_csv(path_searches)"
   ]
  },
  {
   "cell_type": "code",
   "execution_count": 8,
   "metadata": {},
   "outputs": [
    {
     "data": {
      "text/html": [
       "<div>\n",
       "<style scoped>\n",
       "    .dataframe tbody tr th:only-of-type {\n",
       "        vertical-align: middle;\n",
       "    }\n",
       "\n",
       "    .dataframe tbody tr th {\n",
       "        vertical-align: top;\n",
       "    }\n",
       "\n",
       "    .dataframe thead th {\n",
       "        text-align: right;\n",
       "    }\n",
       "</style>\n",
       "<table border=\"1\" class=\"dataframe\">\n",
       "  <thead>\n",
       "    <tr style=\"text-align: right;\">\n",
       "      <th></th>\n",
       "      <th>Search Location 3 Digits</th>\n",
       "      <th>Rides lost</th>\n",
       "    </tr>\n",
       "  </thead>\n",
       "  <tbody>\n",
       "    <tr>\n",
       "      <th>0</th>\n",
       "      <td>52.428,10.786</td>\n",
       "      <td>2,224</td>\n",
       "    </tr>\n",
       "    <tr>\n",
       "      <th>1</th>\n",
       "      <td>52.268,10.526</td>\n",
       "      <td>2,031</td>\n",
       "    </tr>\n",
       "    <tr>\n",
       "      <th>2</th>\n",
       "      <td>52.469,10.542</td>\n",
       "      <td>1,781</td>\n",
       "    </tr>\n",
       "    <tr>\n",
       "      <th>3</th>\n",
       "      <td>52.469,10.543</td>\n",
       "      <td>905</td>\n",
       "    </tr>\n",
       "    <tr>\n",
       "      <th>4</th>\n",
       "      <td>52.268,10.525</td>\n",
       "      <td>599</td>\n",
       "    </tr>\n",
       "  </tbody>\n",
       "</table>\n",
       "</div>"
      ],
      "text/plain": [
       "  Search Location 3 Digits Rides lost \n",
       "0            52.428,10.786       2,224\n",
       "1            52.268,10.526       2,031\n",
       "2            52.469,10.542       1,781\n",
       "3            52.469,10.543         905\n",
       "4            52.268,10.525         599"
      ]
     },
     "execution_count": 8,
     "metadata": {},
     "output_type": "execute_result"
    }
   ],
   "source": [
    "rides_lost_df.head(5)"
   ]
  },
  {
   "cell_type": "code",
   "execution_count": 9,
   "metadata": {},
   "outputs": [
    {
     "data": {
      "text/html": [
       "<div>\n",
       "<style scoped>\n",
       "    .dataframe tbody tr th:only-of-type {\n",
       "        vertical-align: middle;\n",
       "    }\n",
       "\n",
       "    .dataframe tbody tr th {\n",
       "        vertical-align: top;\n",
       "    }\n",
       "\n",
       "    .dataframe thead th {\n",
       "        text-align: right;\n",
       "    }\n",
       "</style>\n",
       "<table border=\"1\" class=\"dataframe\">\n",
       "  <thead>\n",
       "    <tr style=\"text-align: right;\">\n",
       "      <th></th>\n",
       "      <th>Location</th>\n",
       "      <th>Count Search Session</th>\n",
       "    </tr>\n",
       "  </thead>\n",
       "  <tbody>\n",
       "    <tr>\n",
       "      <th>0</th>\n",
       "      <td>52.428,10.786</td>\n",
       "      <td>8,341</td>\n",
       "    </tr>\n",
       "    <tr>\n",
       "      <th>1</th>\n",
       "      <td>52.268,10.526</td>\n",
       "      <td>8,337</td>\n",
       "    </tr>\n",
       "    <tr>\n",
       "      <th>2</th>\n",
       "      <td>52.469,10.542</td>\n",
       "      <td>8,264</td>\n",
       "    </tr>\n",
       "    <tr>\n",
       "      <th>3</th>\n",
       "      <td>52.429,10.787</td>\n",
       "      <td>1,992</td>\n",
       "    </tr>\n",
       "    <tr>\n",
       "      <th>4</th>\n",
       "      <td>52.253,10.539</td>\n",
       "      <td>1,640</td>\n",
       "    </tr>\n",
       "  </tbody>\n",
       "</table>\n",
       "</div>"
      ],
      "text/plain": [
       "        Location Count Search Session\n",
       "0  52.428,10.786                8,341\n",
       "1  52.268,10.526                8,337\n",
       "2  52.469,10.542                8,264\n",
       "3  52.429,10.787                1,992\n",
       "4  52.253,10.539                1,640"
      ]
     },
     "execution_count": 9,
     "metadata": {},
     "output_type": "execute_result"
    }
   ],
   "source": [
    "searches_df.head(5)"
   ]
  },
  {
   "cell_type": "code",
   "execution_count": 10,
   "metadata": {},
   "outputs": [
    {
     "data": {
      "text/plain": [
       "Index(['Search Location 3 Digits', 'Rides lost '], dtype='object')"
      ]
     },
     "execution_count": 10,
     "metadata": {},
     "output_type": "execute_result"
    }
   ],
   "source": [
    "rides_lost_df.columns"
   ]
  },
  {
   "cell_type": "code",
   "execution_count": 11,
   "metadata": {},
   "outputs": [
    {
     "data": {
      "text/plain": [
       "Index(['Search Location 3 Digits', 'Rides lost '], dtype='object')"
      ]
     },
     "execution_count": 11,
     "metadata": {},
     "output_type": "execute_result"
    }
   ],
   "source": [
    "rides_lost_df.columns"
   ]
  },
  {
   "cell_type": "code",
   "execution_count": 12,
   "metadata": {},
   "outputs": [
    {
     "data": {
      "text/plain": [
       "(5001, 2)"
      ]
     },
     "execution_count": 12,
     "metadata": {},
     "output_type": "execute_result"
    }
   ],
   "source": [
    "rides_lost_df.shape"
   ]
  },
  {
   "cell_type": "code",
   "execution_count": 13,
   "metadata": {},
   "outputs": [
    {
     "data": {
      "text/plain": [
       "Search Location 3 Digits       NaN\n",
       "Rides lost                  32,343\n",
       "Name: 5000, dtype: object"
      ]
     },
     "execution_count": 13,
     "metadata": {},
     "output_type": "execute_result"
    }
   ],
   "source": [
    "rides_lost_df.iloc[5000]"
   ]
  },
  {
   "cell_type": "code",
   "execution_count": null,
   "metadata": {},
   "outputs": [],
   "source": []
  },
  {
   "cell_type": "code",
   "execution_count": 14,
   "metadata": {},
   "outputs": [],
   "source": [
    "df_ = rides_lost_df.iloc[:-1]"
   ]
  },
  {
   "cell_type": "code",
   "execution_count": 15,
   "metadata": {},
   "outputs": [
    {
     "data": {
      "text/plain": [
       "pandas.core.frame.DataFrame"
      ]
     },
     "execution_count": 15,
     "metadata": {},
     "output_type": "execute_result"
    }
   ],
   "source": [
    "type(rides_lost_df)"
   ]
  },
  {
   "cell_type": "code",
   "execution_count": 16,
   "metadata": {},
   "outputs": [],
   "source": [
    "df_.to_csv('test_lost_rides.csv')"
   ]
  },
  {
   "cell_type": "code",
   "execution_count": 17,
   "metadata": {},
   "outputs": [],
   "source": [
    "df = df_[df_['Search Location 3 Digits']!= 0]"
   ]
  },
  {
   "cell_type": "code",
   "execution_count": 18,
   "metadata": {},
   "outputs": [
    {
     "data": {
      "text/plain": [
       "(5000, 2)"
      ]
     },
     "execution_count": 18,
     "metadata": {},
     "output_type": "execute_result"
    }
   ],
   "source": [
    "df_.shape"
   ]
  },
  {
   "cell_type": "code",
   "execution_count": 19,
   "metadata": {},
   "outputs": [
    {
     "data": {
      "text/plain": [
       "<bound method NDFrame.describe of      Search Location 3 Digits Rides lost \n",
       "0               52.428,10.786       2,224\n",
       "1               52.268,10.526       2,031\n",
       "2               52.469,10.542       1,781\n",
       "3               52.469,10.543         905\n",
       "4               52.268,10.525         599\n",
       "...                       ...         ...\n",
       "4996            52.436,10.745           1\n",
       "4997            52.277,10.569           2\n",
       "4998            52.397,10.693           1\n",
       "4999            52.241,10.491           1\n",
       "5000                      NaN      32,343\n",
       "\n",
       "[5001 rows x 2 columns]>"
      ]
     },
     "execution_count": 19,
     "metadata": {},
     "output_type": "execute_result"
    }
   ],
   "source": [
    "rides_lost_df.describe"
   ]
  },
  {
   "cell_type": "code",
   "execution_count": 20,
   "metadata": {},
   "outputs": [
    {
     "data": {
      "text/html": [
       "<div>\n",
       "<style scoped>\n",
       "    .dataframe tbody tr th:only-of-type {\n",
       "        vertical-align: middle;\n",
       "    }\n",
       "\n",
       "    .dataframe tbody tr th {\n",
       "        vertical-align: top;\n",
       "    }\n",
       "\n",
       "    .dataframe thead th {\n",
       "        text-align: right;\n",
       "    }\n",
       "</style>\n",
       "<table border=\"1\" class=\"dataframe\">\n",
       "  <thead>\n",
       "    <tr style=\"text-align: right;\">\n",
       "      <th></th>\n",
       "      <th>Search Location 3 Digits</th>\n",
       "      <th>Rides lost</th>\n",
       "    </tr>\n",
       "  </thead>\n",
       "  <tbody>\n",
       "    <tr>\n",
       "      <th>3</th>\n",
       "      <td>52.469,10.543</td>\n",
       "      <td>905</td>\n",
       "    </tr>\n",
       "    <tr>\n",
       "      <th>452</th>\n",
       "      <td>52.251,10.484</td>\n",
       "      <td>9</td>\n",
       "    </tr>\n",
       "    <tr>\n",
       "      <th>487</th>\n",
       "      <td>52.262,10.525</td>\n",
       "      <td>9</td>\n",
       "    </tr>\n",
       "    <tr>\n",
       "      <th>857</th>\n",
       "      <td>52.42,10.78</td>\n",
       "      <td>9</td>\n",
       "    </tr>\n",
       "    <tr>\n",
       "      <th>1082</th>\n",
       "      <td>52.3,10.546</td>\n",
       "      <td>9</td>\n",
       "    </tr>\n",
       "    <tr>\n",
       "      <th>...</th>\n",
       "      <td>...</td>\n",
       "      <td>...</td>\n",
       "    </tr>\n",
       "    <tr>\n",
       "      <th>4369</th>\n",
       "      <td>52.24,10.499</td>\n",
       "      <td>0</td>\n",
       "    </tr>\n",
       "    <tr>\n",
       "      <th>4370</th>\n",
       "      <td>52.458,10.502</td>\n",
       "      <td>0</td>\n",
       "    </tr>\n",
       "    <tr>\n",
       "      <th>4372</th>\n",
       "      <td>52.279,10.528</td>\n",
       "      <td>0</td>\n",
       "    </tr>\n",
       "    <tr>\n",
       "      <th>3522</th>\n",
       "      <td>52.253,10.544</td>\n",
       "      <td>0</td>\n",
       "    </tr>\n",
       "    <tr>\n",
       "      <th>3381</th>\n",
       "      <td>52.429,10.825</td>\n",
       "      <td>0</td>\n",
       "    </tr>\n",
       "  </tbody>\n",
       "</table>\n",
       "<p>5000 rows × 2 columns</p>\n",
       "</div>"
      ],
      "text/plain": [
       "     Search Location 3 Digits Rides lost \n",
       "3               52.469,10.543         905\n",
       "452             52.251,10.484           9\n",
       "487             52.262,10.525           9\n",
       "857               52.42,10.78           9\n",
       "1082              52.3,10.546           9\n",
       "...                       ...         ...\n",
       "4369             52.24,10.499           0\n",
       "4370            52.458,10.502           0\n",
       "4372            52.279,10.528           0\n",
       "3522            52.253,10.544           0\n",
       "3381            52.429,10.825           0\n",
       "\n",
       "[5000 rows x 2 columns]"
      ]
     },
     "execution_count": 20,
     "metadata": {},
     "output_type": "execute_result"
    }
   ],
   "source": [
    "df_.sort_values(by=\"Rides lost \", ascending=False)"
   ]
  },
  {
   "cell_type": "code",
   "execution_count": 21,
   "metadata": {},
   "outputs": [
    {
     "data": {
      "text/plain": [
       "(5000, 2)"
      ]
     },
     "execution_count": 21,
     "metadata": {},
     "output_type": "execute_result"
    }
   ],
   "source": [
    "df.shape"
   ]
  },
  {
   "cell_type": "code",
   "execution_count": 22,
   "metadata": {},
   "outputs": [
    {
     "data": {
      "text/plain": [
       "(5000, 2)"
      ]
     },
     "execution_count": 22,
     "metadata": {},
     "output_type": "execute_result"
    }
   ],
   "source": [
    "df.shape"
   ]
  },
  {
   "cell_type": "code",
   "execution_count": 23,
   "metadata": {},
   "outputs": [],
   "source": [
    "df_ = df_[df_['Rides lost '] != 0]"
   ]
  },
  {
   "cell_type": "code",
   "execution_count": 24,
   "metadata": {},
   "outputs": [
    {
     "data": {
      "text/plain": [
       "'0'"
      ]
     },
     "execution_count": 24,
     "metadata": {},
     "output_type": "execute_result"
    }
   ],
   "source": [
    "df_['Rides lost '].min()"
   ]
  },
  {
   "cell_type": "code",
   "execution_count": 25,
   "metadata": {},
   "outputs": [
    {
     "data": {
      "text/html": [
       "<div>\n",
       "<style scoped>\n",
       "    .dataframe tbody tr th:only-of-type {\n",
       "        vertical-align: middle;\n",
       "    }\n",
       "\n",
       "    .dataframe tbody tr th {\n",
       "        vertical-align: top;\n",
       "    }\n",
       "\n",
       "    .dataframe thead th {\n",
       "        text-align: right;\n",
       "    }\n",
       "</style>\n",
       "<table border=\"1\" class=\"dataframe\">\n",
       "  <thead>\n",
       "    <tr style=\"text-align: right;\">\n",
       "      <th></th>\n",
       "      <th>Search Location 3 Digits</th>\n",
       "      <th>Rides lost</th>\n",
       "    </tr>\n",
       "  </thead>\n",
       "  <tbody>\n",
       "    <tr>\n",
       "      <th>0</th>\n",
       "      <td>52.428,10.786</td>\n",
       "      <td>2,224</td>\n",
       "    </tr>\n",
       "    <tr>\n",
       "      <th>1</th>\n",
       "      <td>52.268,10.526</td>\n",
       "      <td>2,031</td>\n",
       "    </tr>\n",
       "    <tr>\n",
       "      <th>2</th>\n",
       "      <td>52.469,10.542</td>\n",
       "      <td>1,781</td>\n",
       "    </tr>\n",
       "    <tr>\n",
       "      <th>3</th>\n",
       "      <td>52.469,10.543</td>\n",
       "      <td>905</td>\n",
       "    </tr>\n",
       "    <tr>\n",
       "      <th>4</th>\n",
       "      <td>52.268,10.525</td>\n",
       "      <td>599</td>\n",
       "    </tr>\n",
       "    <tr>\n",
       "      <th>...</th>\n",
       "      <td>...</td>\n",
       "      <td>...</td>\n",
       "    </tr>\n",
       "    <tr>\n",
       "      <th>4995</th>\n",
       "      <td>52.233,10.506</td>\n",
       "      <td>1</td>\n",
       "    </tr>\n",
       "    <tr>\n",
       "      <th>4996</th>\n",
       "      <td>52.436,10.745</td>\n",
       "      <td>1</td>\n",
       "    </tr>\n",
       "    <tr>\n",
       "      <th>4997</th>\n",
       "      <td>52.277,10.569</td>\n",
       "      <td>2</td>\n",
       "    </tr>\n",
       "    <tr>\n",
       "      <th>4998</th>\n",
       "      <td>52.397,10.693</td>\n",
       "      <td>1</td>\n",
       "    </tr>\n",
       "    <tr>\n",
       "      <th>4999</th>\n",
       "      <td>52.241,10.491</td>\n",
       "      <td>1</td>\n",
       "    </tr>\n",
       "  </tbody>\n",
       "</table>\n",
       "<p>5000 rows × 2 columns</p>\n",
       "</div>"
      ],
      "text/plain": [
       "     Search Location 3 Digits Rides lost \n",
       "0               52.428,10.786       2,224\n",
       "1               52.268,10.526       2,031\n",
       "2               52.469,10.542       1,781\n",
       "3               52.469,10.543         905\n",
       "4               52.268,10.525         599\n",
       "...                       ...         ...\n",
       "4995            52.233,10.506           1\n",
       "4996            52.436,10.745           1\n",
       "4997            52.277,10.569           2\n",
       "4998            52.397,10.693           1\n",
       "4999            52.241,10.491           1\n",
       "\n",
       "[5000 rows x 2 columns]"
      ]
     },
     "execution_count": 25,
     "metadata": {},
     "output_type": "execute_result"
    }
   ],
   "source": [
    "df_"
   ]
  },
  {
   "cell_type": "code",
   "execution_count": 26,
   "metadata": {},
   "outputs": [],
   "source": [
    "df_['Rides lost '] = df_['Rides lost '].str.replace(',', '').astype(int) \n"
   ]
  },
  {
   "cell_type": "code",
   "execution_count": 27,
   "metadata": {},
   "outputs": [
    {
     "data": {
      "text/plain": [
       "514"
      ]
     },
     "execution_count": 27,
     "metadata": {},
     "output_type": "execute_result"
    }
   ],
   "source": [
    "df_['Rides lost '].value_counts().get(0,0)"
   ]
  },
  {
   "cell_type": "markdown",
   "metadata": {},
   "source": [
    "df2 = df_[df_['Rides lost '] != 0]"
   ]
  },
  {
   "cell_type": "code",
   "execution_count": 28,
   "metadata": {},
   "outputs": [
    {
     "data": {
      "text/html": [
       "<div>\n",
       "<style scoped>\n",
       "    .dataframe tbody tr th:only-of-type {\n",
       "        vertical-align: middle;\n",
       "    }\n",
       "\n",
       "    .dataframe tbody tr th {\n",
       "        vertical-align: top;\n",
       "    }\n",
       "\n",
       "    .dataframe thead th {\n",
       "        text-align: right;\n",
       "    }\n",
       "</style>\n",
       "<table border=\"1\" class=\"dataframe\">\n",
       "  <thead>\n",
       "    <tr style=\"text-align: right;\">\n",
       "      <th></th>\n",
       "      <th>Search Location 3 Digits</th>\n",
       "      <th>Rides lost</th>\n",
       "    </tr>\n",
       "  </thead>\n",
       "  <tbody>\n",
       "    <tr>\n",
       "      <th>0</th>\n",
       "      <td>52.428,10.786</td>\n",
       "      <td>2224</td>\n",
       "    </tr>\n",
       "    <tr>\n",
       "      <th>1</th>\n",
       "      <td>52.268,10.526</td>\n",
       "      <td>2031</td>\n",
       "    </tr>\n",
       "    <tr>\n",
       "      <th>2</th>\n",
       "      <td>52.469,10.542</td>\n",
       "      <td>1781</td>\n",
       "    </tr>\n",
       "    <tr>\n",
       "      <th>3</th>\n",
       "      <td>52.469,10.543</td>\n",
       "      <td>905</td>\n",
       "    </tr>\n",
       "    <tr>\n",
       "      <th>4</th>\n",
       "      <td>52.268,10.525</td>\n",
       "      <td>599</td>\n",
       "    </tr>\n",
       "    <tr>\n",
       "      <th>...</th>\n",
       "      <td>...</td>\n",
       "      <td>...</td>\n",
       "    </tr>\n",
       "    <tr>\n",
       "      <th>4369</th>\n",
       "      <td>52.24,10.499</td>\n",
       "      <td>0</td>\n",
       "    </tr>\n",
       "    <tr>\n",
       "      <th>4370</th>\n",
       "      <td>52.458,10.502</td>\n",
       "      <td>0</td>\n",
       "    </tr>\n",
       "    <tr>\n",
       "      <th>4372</th>\n",
       "      <td>52.279,10.528</td>\n",
       "      <td>0</td>\n",
       "    </tr>\n",
       "    <tr>\n",
       "      <th>3522</th>\n",
       "      <td>52.253,10.544</td>\n",
       "      <td>0</td>\n",
       "    </tr>\n",
       "    <tr>\n",
       "      <th>3381</th>\n",
       "      <td>52.429,10.825</td>\n",
       "      <td>0</td>\n",
       "    </tr>\n",
       "  </tbody>\n",
       "</table>\n",
       "<p>5000 rows × 2 columns</p>\n",
       "</div>"
      ],
      "text/plain": [
       "     Search Location 3 Digits  Rides lost \n",
       "0               52.428,10.786         2224\n",
       "1               52.268,10.526         2031\n",
       "2               52.469,10.542         1781\n",
       "3               52.469,10.543          905\n",
       "4               52.268,10.525          599\n",
       "...                       ...          ...\n",
       "4369             52.24,10.499            0\n",
       "4370            52.458,10.502            0\n",
       "4372            52.279,10.528            0\n",
       "3522            52.253,10.544            0\n",
       "3381            52.429,10.825            0\n",
       "\n",
       "[5000 rows x 2 columns]"
      ]
     },
     "execution_count": 28,
     "metadata": {},
     "output_type": "execute_result"
    }
   ],
   "source": [
    "df_.sort_values(by='Rides lost ', ascending=False)"
   ]
  },
  {
   "cell_type": "code",
   "execution_count": 29,
   "metadata": {},
   "outputs": [],
   "source": [
    "df_ = df_[df_['Rides lost '] != 0]"
   ]
  },
  {
   "cell_type": "code",
   "execution_count": 30,
   "metadata": {},
   "outputs": [
    {
     "data": {
      "text/plain": [
       "(4486, 2)"
      ]
     },
     "execution_count": 30,
     "metadata": {},
     "output_type": "execute_result"
    }
   ],
   "source": [
    "df_.shape"
   ]
  },
  {
   "cell_type": "code",
   "execution_count": 32,
   "metadata": {},
   "outputs": [],
   "source": [
    "rides = pd.read_csv('/Users/bolt/Downloads/Rentals rides list WOB Week4 Aug.csv')\n",
    "lost = pd.read_csv('/Users/bolt/Downloads/Rides lost, high geospatial resolution (2).csv')"
   ]
  },
  {
   "cell_type": "code",
   "execution_count": 34,
   "metadata": {},
   "outputs": [
    {
     "data": {
      "text/html": [
       "<div>\n",
       "<style scoped>\n",
       "    .dataframe tbody tr th:only-of-type {\n",
       "        vertical-align: middle;\n",
       "    }\n",
       "\n",
       "    .dataframe tbody tr th {\n",
       "        vertical-align: top;\n",
       "    }\n",
       "\n",
       "    .dataframe thead th {\n",
       "        text-align: right;\n",
       "    }\n",
       "</style>\n",
       "<table border=\"1\" class=\"dataframe\">\n",
       "  <thead>\n",
       "    <tr style=\"text-align: right;\">\n",
       "      <th></th>\n",
       "      <th>Unnamed: 0</th>\n",
       "      <th>ID</th>\n",
       "      <th>Created Time</th>\n",
       "      <th>Pickup Lat</th>\n",
       "      <th>Pickup Lng</th>\n",
       "      <th>Dropoff Lat</th>\n",
       "      <th>Dropoff Lng</th>\n",
       "      <th>Order Duration, minutes</th>\n",
       "      <th>Vehicle Type</th>\n",
       "      <th>Vehicle Type Scooter or Bike</th>\n",
       "      <th>Battery At Start</th>\n",
       "      <th>Battery In End</th>\n",
       "      <th>Order Distance</th>\n",
       "      <th>Finish Reason</th>\n",
       "      <th>Uuid</th>\n",
       "      <th>User ID</th>\n",
       "      <th>State</th>\n",
       "      <th>Sum of Price Eur</th>\n",
       "    </tr>\n",
       "  </thead>\n",
       "  <tbody>\n",
       "    <tr>\n",
       "      <th>0</th>\n",
       "      <td>1</td>\n",
       "      <td>133311192</td>\n",
       "      <td>2024-08-31 23:59:28</td>\n",
       "      <td>52.478760</td>\n",
       "      <td>10.546554</td>\n",
       "      <td>52.481117</td>\n",
       "      <td>10.520205</td>\n",
       "      <td>8.3</td>\n",
       "      <td>Cobra</td>\n",
       "      <td>scooters</td>\n",
       "      <td>91.0%</td>\n",
       "      <td>85.0%</td>\n",
       "      <td>2,607.0</td>\n",
       "      <td>by_user</td>\n",
       "      <td>203-395</td>\n",
       "      <td>190340975</td>\n",
       "      <td>finished</td>\n",
       "      <td>2.5</td>\n",
       "    </tr>\n",
       "    <tr>\n",
       "      <th>1</th>\n",
       "      <td>2</td>\n",
       "      <td>133311126</td>\n",
       "      <td>2024-08-31 23:59:03</td>\n",
       "      <td>52.286930</td>\n",
       "      <td>10.539032</td>\n",
       "      <td>52.278873</td>\n",
       "      <td>10.519790</td>\n",
       "      <td>7.9</td>\n",
       "      <td>Cobra</td>\n",
       "      <td>scooters</td>\n",
       "      <td>66.0%</td>\n",
       "      <td>61.0%</td>\n",
       "      <td>2,030.0</td>\n",
       "      <td>by_user</td>\n",
       "      <td>993-903</td>\n",
       "      <td>76334317</td>\n",
       "      <td>finished</td>\n",
       "      <td>2.9</td>\n",
       "    </tr>\n",
       "    <tr>\n",
       "      <th>2</th>\n",
       "      <td>3</td>\n",
       "      <td>133311097</td>\n",
       "      <td>2024-08-31 23:58:49</td>\n",
       "      <td>52.423069</td>\n",
       "      <td>10.729268</td>\n",
       "      <td>52.419987</td>\n",
       "      <td>10.715425</td>\n",
       "      <td>4.6</td>\n",
       "      <td>Cobra</td>\n",
       "      <td>scooters</td>\n",
       "      <td>84.0%</td>\n",
       "      <td>79.0%</td>\n",
       "      <td>1,284.0</td>\n",
       "      <td>by_user</td>\n",
       "      <td>463-700</td>\n",
       "      <td>104779783</td>\n",
       "      <td>finished</td>\n",
       "      <td>0.0</td>\n",
       "    </tr>\n",
       "    <tr>\n",
       "      <th>3</th>\n",
       "      <td>4</td>\n",
       "      <td>133311013</td>\n",
       "      <td>2024-08-31 23:57:42</td>\n",
       "      <td>52.269802</td>\n",
       "      <td>10.501383</td>\n",
       "      <td>52.275017</td>\n",
       "      <td>10.521805</td>\n",
       "      <td>4.9</td>\n",
       "      <td>Cobra</td>\n",
       "      <td>scooters</td>\n",
       "      <td>83.0%</td>\n",
       "      <td>79.0%</td>\n",
       "      <td>1,569.0</td>\n",
       "      <td>by_user</td>\n",
       "      <td>666-895</td>\n",
       "      <td>81577629</td>\n",
       "      <td>finished</td>\n",
       "      <td>1.8</td>\n",
       "    </tr>\n",
       "    <tr>\n",
       "      <th>4</th>\n",
       "      <td>5</td>\n",
       "      <td>133311000</td>\n",
       "      <td>2024-08-31 23:57:33</td>\n",
       "      <td>52.265549</td>\n",
       "      <td>10.536510</td>\n",
       "      <td>52.261620</td>\n",
       "      <td>10.502745</td>\n",
       "      <td>10.0</td>\n",
       "      <td>Cobra</td>\n",
       "      <td>scooters</td>\n",
       "      <td>61.0%</td>\n",
       "      <td>53.0%</td>\n",
       "      <td>2,523.0</td>\n",
       "      <td>by_user</td>\n",
       "      <td>086-618</td>\n",
       "      <td>91720671</td>\n",
       "      <td>finished</td>\n",
       "      <td>2.9</td>\n",
       "    </tr>\n",
       "  </tbody>\n",
       "</table>\n",
       "</div>"
      ],
      "text/plain": [
       "   Unnamed: 0         ID         Created Time  Pickup Lat  Pickup Lng  \\\n",
       "0           1  133311192  2024-08-31 23:59:28   52.478760   10.546554   \n",
       "1           2  133311126  2024-08-31 23:59:03   52.286930   10.539032   \n",
       "2           3  133311097  2024-08-31 23:58:49   52.423069   10.729268   \n",
       "3           4  133311013  2024-08-31 23:57:42   52.269802   10.501383   \n",
       "4           5  133311000  2024-08-31 23:57:33   52.265549   10.536510   \n",
       "\n",
       "   Dropoff Lat  Dropoff Lng  Order Duration, minutes Vehicle Type  \\\n",
       "0    52.481117    10.520205                      8.3        Cobra   \n",
       "1    52.278873    10.519790                      7.9        Cobra   \n",
       "2    52.419987    10.715425                      4.6        Cobra   \n",
       "3    52.275017    10.521805                      4.9        Cobra   \n",
       "4    52.261620    10.502745                     10.0        Cobra   \n",
       "\n",
       "  Vehicle Type Scooter or Bike Battery At Start Battery In End Order Distance  \\\n",
       "0                     scooters            91.0%          85.0%        2,607.0   \n",
       "1                     scooters            66.0%          61.0%        2,030.0   \n",
       "2                     scooters            84.0%          79.0%        1,284.0   \n",
       "3                     scooters            83.0%          79.0%        1,569.0   \n",
       "4                     scooters            61.0%          53.0%        2,523.0   \n",
       "\n",
       "  Finish Reason     Uuid    User ID     State  Sum of Price Eur  \n",
       "0       by_user  203-395  190340975  finished               2.5  \n",
       "1       by_user  993-903   76334317  finished               2.9  \n",
       "2       by_user  463-700  104779783  finished               0.0  \n",
       "3       by_user  666-895   81577629  finished               1.8  \n",
       "4       by_user  086-618   91720671  finished               2.9  "
      ]
     },
     "execution_count": 34,
     "metadata": {},
     "output_type": "execute_result"
    }
   ],
   "source": [
    "rides.head(5)"
   ]
  },
  {
   "cell_type": "code",
   "execution_count": 55,
   "metadata": {},
   "outputs": [
    {
     "ename": "NameError",
     "evalue": "name 'true' is not defined",
     "output_type": "error",
     "traceback": [
      "\u001b[0;31m---------------------------------------------------------------------------\u001b[0m",
      "\u001b[0;31mNameError\u001b[0m                                 Traceback (most recent call last)",
      "Cell \u001b[0;32mIn[55], line 1\u001b[0m\n\u001b[0;32m----> 1\u001b[0m data \u001b[38;5;241m=\u001b[39m {{\u001b[38;5;124m\"\u001b[39m\u001b[38;5;124mversion\u001b[39m\u001b[38;5;124m\"\u001b[39m:\u001b[38;5;124m\"\u001b[39m\u001b[38;5;124mv1\u001b[39m\u001b[38;5;124m\"\u001b[39m,\u001b[38;5;124m\"\u001b[39m\u001b[38;5;124mconfig\u001b[39m\u001b[38;5;124m\"\u001b[39m:{\u001b[38;5;124m\"\u001b[39m\u001b[38;5;124mvisState\u001b[39m\u001b[38;5;124m\"\u001b[39m:{\u001b[38;5;124m\"\u001b[39m\u001b[38;5;124mfilters\u001b[39m\u001b[38;5;124m\"\u001b[39m:[],\u001b[38;5;124m\"\u001b[39m\u001b[38;5;124mlayers\u001b[39m\u001b[38;5;124m\"\u001b[39m:[{\u001b[38;5;124m\"\u001b[39m\u001b[38;5;124mid\u001b[39m\u001b[38;5;124m\"\u001b[39m:\u001b[38;5;124m\"\u001b[39m\u001b[38;5;124mlqrcktx\u001b[39m\u001b[38;5;124m\"\u001b[39m,\u001b[38;5;124m\"\u001b[39m\u001b[38;5;124mtype\u001b[39m\u001b[38;5;124m\"\u001b[39m:\u001b[38;5;124m\"\u001b[39m\u001b[38;5;124mgeojson\u001b[39m\u001b[38;5;124m\"\u001b[39m,\u001b[38;5;124m\"\u001b[39m\u001b[38;5;124mconfig\u001b[39m\u001b[38;5;124m\"\u001b[39m:{\u001b[38;5;124m\"\u001b[39m\u001b[38;5;124mdataId\u001b[39m\u001b[38;5;124m\"\u001b[39m:\u001b[38;5;124m\"\u001b[39m\u001b[38;5;124m9xmzs6\u001b[39m\u001b[38;5;124m\"\u001b[39m,\u001b[38;5;124m\"\u001b[39m\u001b[38;5;124mcolumnMode\u001b[39m\u001b[38;5;124m\"\u001b[39m:\u001b[38;5;124m\"\u001b[39m\u001b[38;5;124mgeojson\u001b[39m\u001b[38;5;124m\"\u001b[39m,\u001b[38;5;124m\"\u001b[39m\u001b[38;5;124mlabel\u001b[39m\u001b[38;5;124m\"\u001b[39m:\u001b[38;5;124m\"\u001b[39m\u001b[38;5;124mWOB DPZs\u001b[39m\u001b[38;5;124m\"\u001b[39m,\u001b[38;5;124m\"\u001b[39m\u001b[38;5;124mcolor\u001b[39m\u001b[38;5;124m\"\u001b[39m:[\u001b[38;5;241m254\u001b[39m,\u001b[38;5;241m242\u001b[39m,\u001b[38;5;241m26\u001b[39m],\u001b[38;5;124m\"\u001b[39m\u001b[38;5;124mhighlightColor\u001b[39m\u001b[38;5;124m\"\u001b[39m:[\u001b[38;5;241m252\u001b[39m,\u001b[38;5;241m242\u001b[39m,\u001b[38;5;241m26\u001b[39m,\u001b[38;5;241m255\u001b[39m],\u001b[38;5;124m\"\u001b[39m\u001b[38;5;124mcolumns\u001b[39m\u001b[38;5;124m\"\u001b[39m:{\u001b[38;5;124m\"\u001b[39m\u001b[38;5;124mgeojson\u001b[39m\u001b[38;5;124m\"\u001b[39m:\u001b[38;5;124m\"\u001b[39m\u001b[38;5;124m_geojson\u001b[39m\u001b[38;5;124m\"\u001b[39m},\u001b[38;5;124m\"\u001b[39m\u001b[38;5;124misVisible\u001b[39m\u001b[38;5;124m\"\u001b[39m:true,\u001b[38;5;124m\"\u001b[39m\u001b[38;5;124mvisConfig\u001b[39m\u001b[38;5;124m\"\u001b[39m:{\u001b[38;5;124m\"\u001b[39m\u001b[38;5;124mopacity\u001b[39m\u001b[38;5;124m\"\u001b[39m:\u001b[38;5;241m0.8\u001b[39m,\u001b[38;5;124m\"\u001b[39m\u001b[38;5;124mstrokeOpacity\u001b[39m\u001b[38;5;124m\"\u001b[39m:\u001b[38;5;241m0.8\u001b[39m,\u001b[38;5;124m\"\u001b[39m\u001b[38;5;124mthickness\u001b[39m\u001b[38;5;124m\"\u001b[39m:\u001b[38;5;241m3.5\u001b[39m,\u001b[38;5;124m\"\u001b[39m\u001b[38;5;124mstrokeColor\u001b[39m\u001b[38;5;124m\"\u001b[39m:[\u001b[38;5;241m254\u001b[39m,\u001b[38;5;241m242\u001b[39m,\u001b[38;5;241m26\u001b[39m],\u001b[38;5;124m\"\u001b[39m\u001b[38;5;124mcolorRange\u001b[39m\u001b[38;5;124m\"\u001b[39m:{\u001b[38;5;124m\"\u001b[39m\u001b[38;5;124mname\u001b[39m\u001b[38;5;124m\"\u001b[39m:\u001b[38;5;124m\"\u001b[39m\u001b[38;5;124mGlobal Warming\u001b[39m\u001b[38;5;124m\"\u001b[39m,\u001b[38;5;124m\"\u001b[39m\u001b[38;5;124mtype\u001b[39m\u001b[38;5;124m\"\u001b[39m:\u001b[38;5;124m\"\u001b[39m\u001b[38;5;124msequential\u001b[39m\u001b[38;5;124m\"\u001b[39m,\u001b[38;5;124m\"\u001b[39m\u001b[38;5;124mcategory\u001b[39m\u001b[38;5;124m\"\u001b[39m:\u001b[38;5;124m\"\u001b[39m\u001b[38;5;124mUber\u001b[39m\u001b[38;5;124m\"\u001b[39m,\u001b[38;5;124m\"\u001b[39m\u001b[38;5;124mcolors\u001b[39m\u001b[38;5;124m\"\u001b[39m:[\u001b[38;5;124m\"\u001b[39m\u001b[38;5;124m#5A1846\u001b[39m\u001b[38;5;124m\"\u001b[39m,\u001b[38;5;124m\"\u001b[39m\u001b[38;5;124m#900C3F\u001b[39m\u001b[38;5;124m\"\u001b[39m,\u001b[38;5;124m\"\u001b[39m\u001b[38;5;124m#C70039\u001b[39m\u001b[38;5;124m\"\u001b[39m,\u001b[38;5;124m\"\u001b[39m\u001b[38;5;124m#E3611C\u001b[39m\u001b[38;5;124m\"\u001b[39m,\u001b[38;5;124m\"\u001b[39m\u001b[38;5;124m#F1920E\u001b[39m\u001b[38;5;124m\"\u001b[39m,\u001b[38;5;124m\"\u001b[39m\u001b[38;5;124m#FFC300\u001b[39m\u001b[38;5;124m\"\u001b[39m]},\u001b[38;5;124m\"\u001b[39m\u001b[38;5;124mstrokeColorRange\u001b[39m\u001b[38;5;124m\"\u001b[39m:{\u001b[38;5;124m\"\u001b[39m\u001b[38;5;124mname\u001b[39m\u001b[38;5;124m\"\u001b[39m:\u001b[38;5;124m\"\u001b[39m\u001b[38;5;124mGlobal Warming\u001b[39m\u001b[38;5;124m\"\u001b[39m,\u001b[38;5;124m\"\u001b[39m\u001b[38;5;124mtype\u001b[39m\u001b[38;5;124m\"\u001b[39m:\u001b[38;5;124m\"\u001b[39m\u001b[38;5;124msequential\u001b[39m\u001b[38;5;124m\"\u001b[39m,\u001b[38;5;124m\"\u001b[39m\u001b[38;5;124mcategory\u001b[39m\u001b[38;5;124m\"\u001b[39m:\u001b[38;5;124m\"\u001b[39m\u001b[38;5;124mUber\u001b[39m\u001b[38;5;124m\"\u001b[39m,\u001b[38;5;124m\"\u001b[39m\u001b[38;5;124mcolors\u001b[39m\u001b[38;5;124m\"\u001b[39m:[\u001b[38;5;124m\"\u001b[39m\u001b[38;5;124m#5A1846\u001b[39m\u001b[38;5;124m\"\u001b[39m,\u001b[38;5;124m\"\u001b[39m\u001b[38;5;124m#900C3F\u001b[39m\u001b[38;5;124m\"\u001b[39m,\u001b[38;5;124m\"\u001b[39m\u001b[38;5;124m#C70039\u001b[39m\u001b[38;5;124m\"\u001b[39m,\u001b[38;5;124m\"\u001b[39m\u001b[38;5;124m#E3611C\u001b[39m\u001b[38;5;124m\"\u001b[39m,\u001b[38;5;124m\"\u001b[39m\u001b[38;5;124m#F1920E\u001b[39m\u001b[38;5;124m\"\u001b[39m,\u001b[38;5;124m\"\u001b[39m\u001b[38;5;124m#FFC300\u001b[39m\u001b[38;5;124m\"\u001b[39m]},\u001b[38;5;124m\"\u001b[39m\u001b[38;5;124mradius\u001b[39m\u001b[38;5;124m\"\u001b[39m:\u001b[38;5;241m10\u001b[39m,\u001b[38;5;124m\"\u001b[39m\u001b[38;5;124msizeRange\u001b[39m\u001b[38;5;124m\"\u001b[39m:[\u001b[38;5;241m0\u001b[39m,\u001b[38;5;241m10\u001b[39m],\u001b[38;5;124m\"\u001b[39m\u001b[38;5;124mradiusRange\u001b[39m\u001b[38;5;124m\"\u001b[39m:[\u001b[38;5;241m0\u001b[39m,\u001b[38;5;241m50\u001b[39m],\u001b[38;5;124m\"\u001b[39m\u001b[38;5;124mheightRange\u001b[39m\u001b[38;5;124m\"\u001b[39m:[\u001b[38;5;241m0\u001b[39m,\u001b[38;5;241m500\u001b[39m],\u001b[38;5;124m\"\u001b[39m\u001b[38;5;124melevationScale\u001b[39m\u001b[38;5;124m\"\u001b[39m:\u001b[38;5;241m5\u001b[39m,\u001b[38;5;124m\"\u001b[39m\u001b[38;5;124mstroked\u001b[39m\u001b[38;5;124m\"\u001b[39m:true,\u001b[38;5;124m\"\u001b[39m\u001b[38;5;124mfilled\u001b[39m\u001b[38;5;124m\"\u001b[39m:true,\u001b[38;5;124m\"\u001b[39m\u001b[38;5;124menable3d\u001b[39m\u001b[38;5;124m\"\u001b[39m:false,\u001b[38;5;124m\"\u001b[39m\u001b[38;5;124mwireframe\u001b[39m\u001b[38;5;124m\"\u001b[39m:false,\u001b[38;5;124m\"\u001b[39m\u001b[38;5;124mfixedHeight\u001b[39m\u001b[38;5;124m\"\u001b[39m:false},\u001b[38;5;124m\"\u001b[39m\u001b[38;5;124mhidden\u001b[39m\u001b[38;5;124m\"\u001b[39m:false,\u001b[38;5;124m\"\u001b[39m\u001b[38;5;124mtextLabel\u001b[39m\u001b[38;5;124m\"\u001b[39m:[{\u001b[38;5;124m\"\u001b[39m\u001b[38;5;124mfield\u001b[39m\u001b[38;5;124m\"\u001b[39m:null,\u001b[38;5;124m\"\u001b[39m\u001b[38;5;124mcolor\u001b[39m\u001b[38;5;124m\"\u001b[39m:[\u001b[38;5;241m255\u001b[39m,\u001b[38;5;241m255\u001b[39m,\u001b[38;5;241m255\u001b[39m],\u001b[38;5;124m\"\u001b[39m\u001b[38;5;124msize\u001b[39m\u001b[38;5;124m\"\u001b[39m:\u001b[38;5;241m18\u001b[39m,\u001b[38;5;124m\"\u001b[39m\u001b[38;5;124moffset\u001b[39m\u001b[38;5;124m\"\u001b[39m:[\u001b[38;5;241m0\u001b[39m,\u001b[38;5;241m0\u001b[39m],\u001b[38;5;124m\"\u001b[39m\u001b[38;5;124manchor\u001b[39m\u001b[38;5;124m\"\u001b[39m:\u001b[38;5;124m\"\u001b[39m\u001b[38;5;124mstart\u001b[39m\u001b[38;5;124m\"\u001b[39m,\u001b[38;5;124m\"\u001b[39m\u001b[38;5;124malignment\u001b[39m\u001b[38;5;124m\"\u001b[39m:\u001b[38;5;124m\"\u001b[39m\u001b[38;5;124mcenter\u001b[39m\u001b[38;5;124m\"\u001b[39m,\u001b[38;5;124m\"\u001b[39m\u001b[38;5;124moutlineWidth\u001b[39m\u001b[38;5;124m\"\u001b[39m:\u001b[38;5;241m0\u001b[39m,\u001b[38;5;124m\"\u001b[39m\u001b[38;5;124moutlineColor\u001b[39m\u001b[38;5;124m\"\u001b[39m:[\u001b[38;5;241m255\u001b[39m,\u001b[38;5;241m0\u001b[39m,\u001b[38;5;241m0\u001b[39m,\u001b[38;5;241m255\u001b[39m],\u001b[38;5;124m\"\u001b[39m\u001b[38;5;124mbackground\u001b[39m\u001b[38;5;124m\"\u001b[39m:false,\u001b[38;5;124m\"\u001b[39m\u001b[38;5;124mbackgroundColor\u001b[39m\u001b[38;5;124m\"\u001b[39m:[\u001b[38;5;241m0\u001b[39m,\u001b[38;5;241m0\u001b[39m,\u001b[38;5;241m200\u001b[39m,\u001b[38;5;241m255\u001b[39m]}]},\u001b[38;5;124m\"\u001b[39m\u001b[38;5;124mvisualChannels\u001b[39m\u001b[38;5;124m\"\u001b[39m:{\u001b[38;5;124m\"\u001b[39m\u001b[38;5;124mcolorField\u001b[39m\u001b[38;5;124m\"\u001b[39m:null,\u001b[38;5;124m\"\u001b[39m\u001b[38;5;124mcolorScale\u001b[39m\u001b[38;5;124m\"\u001b[39m:\u001b[38;5;124m\"\u001b[39m\u001b[38;5;124mquantile\u001b[39m\u001b[38;5;124m\"\u001b[39m,\u001b[38;5;124m\"\u001b[39m\u001b[38;5;124mstrokeColorField\u001b[39m\u001b[38;5;124m\"\u001b[39m:null,\u001b[38;5;124m\"\u001b[39m\u001b[38;5;124mstrokeColorScale\u001b[39m\u001b[38;5;124m\"\u001b[39m:\u001b[38;5;124m\"\u001b[39m\u001b[38;5;124mquantile\u001b[39m\u001b[38;5;124m\"\u001b[39m,\u001b[38;5;124m\"\u001b[39m\u001b[38;5;124msizeField\u001b[39m\u001b[38;5;124m\"\u001b[39m:null,\u001b[38;5;124m\"\u001b[39m\u001b[38;5;124msizeScale\u001b[39m\u001b[38;5;124m\"\u001b[39m:\u001b[38;5;124m\"\u001b[39m\u001b[38;5;124mlinear\u001b[39m\u001b[38;5;124m\"\u001b[39m,\u001b[38;5;124m\"\u001b[39m\u001b[38;5;124mheightField\u001b[39m\u001b[38;5;124m\"\u001b[39m:null,\u001b[38;5;124m\"\u001b[39m\u001b[38;5;124mheightScale\u001b[39m\u001b[38;5;124m\"\u001b[39m:\u001b[38;5;124m\"\u001b[39m\u001b[38;5;124mlinear\u001b[39m\u001b[38;5;124m\"\u001b[39m,\u001b[38;5;124m\"\u001b[39m\u001b[38;5;124mradiusField\u001b[39m\u001b[38;5;124m\"\u001b[39m:null,\u001b[38;5;124m\"\u001b[39m\u001b[38;5;124mradiusScale\u001b[39m\u001b[38;5;124m\"\u001b[39m:\u001b[38;5;124m\"\u001b[39m\u001b[38;5;124mlinear\u001b[39m\u001b[38;5;124m\"\u001b[39m}},{\u001b[38;5;124m\"\u001b[39m\u001b[38;5;124mid\u001b[39m\u001b[38;5;124m\"\u001b[39m:\u001b[38;5;124m\"\u001b[39m\u001b[38;5;124mf5ml7pr\u001b[39m\u001b[38;5;124m\"\u001b[39m,\u001b[38;5;124m\"\u001b[39m\u001b[38;5;124mtype\u001b[39m\u001b[38;5;124m\"\u001b[39m:\u001b[38;5;124m\"\u001b[39m\u001b[38;5;124mpoint\u001b[39m\u001b[38;5;124m\"\u001b[39m,\u001b[38;5;124m\"\u001b[39m\u001b[38;5;124mconfig\u001b[39m\u001b[38;5;124m\"\u001b[39m:{\u001b[38;5;124m\"\u001b[39m\u001b[38;5;124mdataId\u001b[39m\u001b[38;5;124m\"\u001b[39m:\u001b[38;5;124m\"\u001b[39m\u001b[38;5;124m-vrcv5w\u001b[39m\u001b[38;5;124m\"\u001b[39m,\u001b[38;5;124m\"\u001b[39m\u001b[38;5;124mcolumnMode\u001b[39m\u001b[38;5;124m\"\u001b[39m:\u001b[38;5;124m\"\u001b[39m\u001b[38;5;124mpoints\u001b[39m\u001b[38;5;124m\"\u001b[39m,\u001b[38;5;124m\"\u001b[39m\u001b[38;5;124mlabel\u001b[39m\u001b[38;5;124m\"\u001b[39m:\u001b[38;5;124m\"\u001b[39m\u001b[38;5;124mpoint\u001b[39m\u001b[38;5;124m\"\u001b[39m,\u001b[38;5;124m\"\u001b[39m\u001b[38;5;124mcolor\u001b[39m\u001b[38;5;124m\"\u001b[39m:[\u001b[38;5;241m34\u001b[39m,\u001b[38;5;241m63\u001b[39m,\u001b[38;5;241m154\u001b[39m],\u001b[38;5;124m\"\u001b[39m\u001b[38;5;124mhighlightColor\u001b[39m\u001b[38;5;124m\"\u001b[39m:[\u001b[38;5;241m252\u001b[39m,\u001b[38;5;241m242\u001b[39m,\u001b[38;5;241m26\u001b[39m,\u001b[38;5;241m255\u001b[39m],\u001b[38;5;124m\"\u001b[39m\u001b[38;5;124mcolumns\u001b[39m\u001b[38;5;124m\"\u001b[39m:{\u001b[38;5;124m\"\u001b[39m\u001b[38;5;124mlat\u001b[39m\u001b[38;5;124m\"\u001b[39m:\u001b[38;5;124m\"\u001b[39m\u001b[38;5;124mlatitude\u001b[39m\u001b[38;5;124m\"\u001b[39m,\u001b[38;5;124m\"\u001b[39m\u001b[38;5;124mlng\u001b[39m\u001b[38;5;124m\"\u001b[39m:\u001b[38;5;124m\"\u001b[39m\u001b[38;5;124mlongitude\u001b[39m\u001b[38;5;124m\"\u001b[39m},\u001b[38;5;124m\"\u001b[39m\u001b[38;5;124misVisible\u001b[39m\u001b[38;5;124m\"\u001b[39m:true,\u001b[38;5;124m\"\u001b[39m\u001b[38;5;124mvisConfig\u001b[39m\u001b[38;5;124m\"\u001b[39m:{\u001b[38;5;124m\"\u001b[39m\u001b[38;5;124mradius\u001b[39m\u001b[38;5;124m\"\u001b[39m:\u001b[38;5;241m10\u001b[39m,\u001b[38;5;124m\"\u001b[39m\u001b[38;5;124mfixedRadius\u001b[39m\u001b[38;5;124m\"\u001b[39m:false,\u001b[38;5;124m\"\u001b[39m\u001b[38;5;124mopacity\u001b[39m\u001b[38;5;124m\"\u001b[39m:\u001b[38;5;241m0.8\u001b[39m,\u001b[38;5;124m\"\u001b[39m\u001b[38;5;124moutline\u001b[39m\u001b[38;5;124m\"\u001b[39m:false,\u001b[38;5;124m\"\u001b[39m\u001b[38;5;124mthickness\u001b[39m\u001b[38;5;124m\"\u001b[39m:\u001b[38;5;241m2\u001b[39m,\u001b[38;5;124m\"\u001b[39m\u001b[38;5;124mstrokeColor\u001b[39m\u001b[38;5;124m\"\u001b[39m:null,\u001b[38;5;124m\"\u001b[39m\u001b[38;5;124mcolorRange\u001b[39m\u001b[38;5;124m\"\u001b[39m:{\u001b[38;5;124m\"\u001b[39m\u001b[38;5;124mname\u001b[39m\u001b[38;5;124m\"\u001b[39m:\u001b[38;5;124m\"\u001b[39m\u001b[38;5;124mColorBrewer PRGn-10\u001b[39m\u001b[38;5;124m\"\u001b[39m,\u001b[38;5;124m\"\u001b[39m\u001b[38;5;124mtype\u001b[39m\u001b[38;5;124m\"\u001b[39m:\u001b[38;5;124m\"\u001b[39m\u001b[38;5;124mdiverging\u001b[39m\u001b[38;5;124m\"\u001b[39m,\u001b[38;5;124m\"\u001b[39m\u001b[38;5;124mcategory\u001b[39m\u001b[38;5;124m\"\u001b[39m:\u001b[38;5;124m\"\u001b[39m\u001b[38;5;124mColorBrewer\u001b[39m\u001b[38;5;124m\"\u001b[39m,\u001b[38;5;124m\"\u001b[39m\u001b[38;5;124mcolors\u001b[39m\u001b[38;5;124m\"\u001b[39m:[\u001b[38;5;124m\"\u001b[39m\u001b[38;5;124m#40004b\u001b[39m\u001b[38;5;124m\"\u001b[39m,\u001b[38;5;124m\"\u001b[39m\u001b[38;5;124m#762a83\u001b[39m\u001b[38;5;124m\"\u001b[39m,\u001b[38;5;124m\"\u001b[39m\u001b[38;5;124m#9970ab\u001b[39m\u001b[38;5;124m\"\u001b[39m,\u001b[38;5;124m\"\u001b[39m\u001b[38;5;124m#c2a5cf\u001b[39m\u001b[38;5;124m\"\u001b[39m,\u001b[38;5;124m\"\u001b[39m\u001b[38;5;124m#e7d4e8\u001b[39m\u001b[38;5;124m\"\u001b[39m,\u001b[38;5;124m\"\u001b[39m\u001b[38;5;124m#d9f0d3\u001b[39m\u001b[38;5;124m\"\u001b[39m,\u001b[38;5;124m\"\u001b[39m\u001b[38;5;124m#a6dba0\u001b[39m\u001b[38;5;124m\"\u001b[39m,\u001b[38;5;124m\"\u001b[39m\u001b[38;5;124m#5aae61\u001b[39m\u001b[38;5;124m\"\u001b[39m,\u001b[38;5;124m\"\u001b[39m\u001b[38;5;124m#1b7837\u001b[39m\u001b[38;5;124m\"\u001b[39m,\u001b[38;5;124m\"\u001b[39m\u001b[38;5;124m#00441b\u001b[39m\u001b[38;5;124m\"\u001b[39m]},\u001b[38;5;124m\"\u001b[39m\u001b[38;5;124mstrokeColorRange\u001b[39m\u001b[38;5;124m\"\u001b[39m:{\u001b[38;5;124m\"\u001b[39m\u001b[38;5;124mname\u001b[39m\u001b[38;5;124m\"\u001b[39m:\u001b[38;5;124m\"\u001b[39m\u001b[38;5;124mGlobal Warming\u001b[39m\u001b[38;5;124m\"\u001b[39m,\u001b[38;5;124m\"\u001b[39m\u001b[38;5;124mtype\u001b[39m\u001b[38;5;124m\"\u001b[39m:\u001b[38;5;124m\"\u001b[39m\u001b[38;5;124msequential\u001b[39m\u001b[38;5;124m\"\u001b[39m,\u001b[38;5;124m\"\u001b[39m\u001b[38;5;124mcategory\u001b[39m\u001b[38;5;124m\"\u001b[39m:\u001b[38;5;124m\"\u001b[39m\u001b[38;5;124mUber\u001b[39m\u001b[38;5;124m\"\u001b[39m,\u001b[38;5;124m\"\u001b[39m\u001b[38;5;124mcolors\u001b[39m\u001b[38;5;124m\"\u001b[39m:[\u001b[38;5;124m\"\u001b[39m\u001b[38;5;124m#5A1846\u001b[39m\u001b[38;5;124m\"\u001b[39m,\u001b[38;5;124m\"\u001b[39m\u001b[38;5;124m#900C3F\u001b[39m\u001b[38;5;124m\"\u001b[39m,\u001b[38;5;124m\"\u001b[39m\u001b[38;5;124m#C70039\u001b[39m\u001b[38;5;124m\"\u001b[39m,\u001b[38;5;124m\"\u001b[39m\u001b[38;5;124m#E3611C\u001b[39m\u001b[38;5;124m\"\u001b[39m,\u001b[38;5;124m\"\u001b[39m\u001b[38;5;124m#F1920E\u001b[39m\u001b[38;5;124m\"\u001b[39m,\u001b[38;5;124m\"\u001b[39m\u001b[38;5;124m#FFC300\u001b[39m\u001b[38;5;124m\"\u001b[39m]},\u001b[38;5;124m\"\u001b[39m\u001b[38;5;124mradiusRange\u001b[39m\u001b[38;5;124m\"\u001b[39m:[\u001b[38;5;241m15.4\u001b[39m,\u001b[38;5;241m197.4\u001b[39m],\u001b[38;5;124m\"\u001b[39m\u001b[38;5;124mfilled\u001b[39m\u001b[38;5;124m\"\u001b[39m:true,\u001b[38;5;124m\"\u001b[39m\u001b[38;5;124mbillboard\u001b[39m\u001b[38;5;124m\"\u001b[39m:false,\u001b[38;5;124m\"\u001b[39m\u001b[38;5;124mallowHover\u001b[39m\u001b[38;5;124m\"\u001b[39m:true,\u001b[38;5;124m\"\u001b[39m\u001b[38;5;124mshowNeighborOnHover\u001b[39m\u001b[38;5;124m\"\u001b[39m:false,\u001b[38;5;124m\"\u001b[39m\u001b[38;5;124mshowHighlightColor\u001b[39m\u001b[38;5;124m\"\u001b[39m:true},\u001b[38;5;124m\"\u001b[39m\u001b[38;5;124mhidden\u001b[39m\u001b[38;5;124m\"\u001b[39m:false,\u001b[38;5;124m\"\u001b[39m\u001b[38;5;124mtextLabel\u001b[39m\u001b[38;5;124m\"\u001b[39m:[{\u001b[38;5;124m\"\u001b[39m\u001b[38;5;124mfield\u001b[39m\u001b[38;5;124m\"\u001b[39m:null,\u001b[38;5;124m\"\u001b[39m\u001b[38;5;124mcolor\u001b[39m\u001b[38;5;124m\"\u001b[39m:[\u001b[38;5;241m255\u001b[39m,\u001b[38;5;241m255\u001b[39m,\u001b[38;5;241m255\u001b[39m],\u001b[38;5;124m\"\u001b[39m\u001b[38;5;124msize\u001b[39m\u001b[38;5;124m\"\u001b[39m:\u001b[38;5;241m18\u001b[39m,\u001b[38;5;124m\"\u001b[39m\u001b[38;5;124moffset\u001b[39m\u001b[38;5;124m\"\u001b[39m:[\u001b[38;5;241m0\u001b[39m,\u001b[38;5;241m0\u001b[39m],\u001b[38;5;124m\"\u001b[39m\u001b[38;5;124manchor\u001b[39m\u001b[38;5;124m\"\u001b[39m:\u001b[38;5;124m\"\u001b[39m\u001b[38;5;124mstart\u001b[39m\u001b[38;5;124m\"\u001b[39m,\u001b[38;5;124m\"\u001b[39m\u001b[38;5;124malignment\u001b[39m\u001b[38;5;124m\"\u001b[39m:\u001b[38;5;124m\"\u001b[39m\u001b[38;5;124mcenter\u001b[39m\u001b[38;5;124m\"\u001b[39m,\u001b[38;5;124m\"\u001b[39m\u001b[38;5;124moutlineWidth\u001b[39m\u001b[38;5;124m\"\u001b[39m:\u001b[38;5;241m0\u001b[39m,\u001b[38;5;124m\"\u001b[39m\u001b[38;5;124moutlineColor\u001b[39m\u001b[38;5;124m\"\u001b[39m:[\u001b[38;5;241m255\u001b[39m,\u001b[38;5;241m0\u001b[39m,\u001b[38;5;241m0\u001b[39m,\u001b[38;5;241m255\u001b[39m],\u001b[38;5;124m\"\u001b[39m\u001b[38;5;124mbackground\u001b[39m\u001b[38;5;124m\"\u001b[39m:false,\u001b[38;5;124m\"\u001b[39m\u001b[38;5;124mbackgroundColor\u001b[39m\u001b[38;5;124m\"\u001b[39m:[\u001b[38;5;241m0\u001b[39m,\u001b[38;5;241m0\u001b[39m,\u001b[38;5;241m200\u001b[39m,\u001b[38;5;241m255\u001b[39m]}]},\u001b[38;5;124m\"\u001b[39m\u001b[38;5;124mvisualChannels\u001b[39m\u001b[38;5;124m\"\u001b[39m:{\u001b[38;5;124m\"\u001b[39m\u001b[38;5;124mcolorField\u001b[39m\u001b[38;5;124m\"\u001b[39m:{\u001b[38;5;124m\"\u001b[39m\u001b[38;5;124mname\u001b[39m\u001b[38;5;124m\"\u001b[39m:\u001b[38;5;124m\"\u001b[39m\u001b[38;5;124m0\u001b[39m\u001b[38;5;124m\"\u001b[39m,\u001b[38;5;124m\"\u001b[39m\u001b[38;5;124mtype\u001b[39m\u001b[38;5;124m\"\u001b[39m:\u001b[38;5;124m\"\u001b[39m\u001b[38;5;124minteger\u001b[39m\u001b[38;5;124m\"\u001b[39m},\u001b[38;5;124m\"\u001b[39m\u001b[38;5;124mcolorScale\u001b[39m\u001b[38;5;124m\"\u001b[39m:\u001b[38;5;124m\"\u001b[39m\u001b[38;5;124mquantile\u001b[39m\u001b[38;5;124m\"\u001b[39m,\u001b[38;5;124m\"\u001b[39m\u001b[38;5;124mstrokeColorField\u001b[39m\u001b[38;5;124m\"\u001b[39m:null,\u001b[38;5;124m\"\u001b[39m\u001b[38;5;124mstrokeColorScale\u001b[39m\u001b[38;5;124m\"\u001b[39m:\u001b[38;5;124m\"\u001b[39m\u001b[38;5;124mquantile\u001b[39m\u001b[38;5;124m\"\u001b[39m,\u001b[38;5;124m\"\u001b[39m\u001b[38;5;124msizeField\u001b[39m\u001b[38;5;124m\"\u001b[39m:{\u001b[38;5;124m\"\u001b[39m\u001b[38;5;124mname\u001b[39m\u001b[38;5;124m\"\u001b[39m:\u001b[38;5;124m\"\u001b[39m\u001b[38;5;124mRides lost \u001b[39m\u001b[38;5;124m\"\u001b[39m,\u001b[38;5;124m\"\u001b[39m\u001b[38;5;124mtype\u001b[39m\u001b[38;5;124m\"\u001b[39m:\u001b[38;5;124m\"\u001b[39m\u001b[38;5;124minteger\u001b[39m\u001b[38;5;124m\"\u001b[39m},\u001b[38;5;124m\"\u001b[39m\u001b[38;5;124msizeScale\u001b[39m\u001b[38;5;124m\"\u001b[39m:\u001b[38;5;124m\"\u001b[39m\u001b[38;5;124msqrt\u001b[39m\u001b[38;5;124m\"\u001b[39m}},{\u001b[38;5;124m\"\u001b[39m\u001b[38;5;124mid\u001b[39m\u001b[38;5;124m\"\u001b[39m:\u001b[38;5;124m\"\u001b[39m\u001b[38;5;124mmpw8q\u001b[39m\u001b[38;5;124m\"\u001b[39m,\u001b[38;5;124m\"\u001b[39m\u001b[38;5;124mtype\u001b[39m\u001b[38;5;124m\"\u001b[39m:\u001b[38;5;124m\"\u001b[39m\u001b[38;5;124mhexagonId\u001b[39m\u001b[38;5;124m\"\u001b[39m,\u001b[38;5;124m\"\u001b[39m\u001b[38;5;124mconfig\u001b[39m\u001b[38;5;124m\"\u001b[39m:{\u001b[38;5;124m\"\u001b[39m\u001b[38;5;124mdataId\u001b[39m\u001b[38;5;124m\"\u001b[39m:\u001b[38;5;124m\"\u001b[39m\u001b[38;5;124mbdmwjq\u001b[39m\u001b[38;5;124m\"\u001b[39m,\u001b[38;5;124m\"\u001b[39m\u001b[38;5;124mlabel\u001b[39m\u001b[38;5;124m\"\u001b[39m:\u001b[38;5;124m\"\u001b[39m\u001b[38;5;124mrides.geojson\u001b[39m\u001b[38;5;124m\"\u001b[39m,\u001b[38;5;124m\"\u001b[39m\u001b[38;5;124mcolor\u001b[39m\u001b[38;5;124m\"\u001b[39m:[\u001b[38;5;241m130\u001b[39m,\u001b[38;5;241m154\u001b[39m,\u001b[38;5;241m227\u001b[39m],\u001b[38;5;124m\"\u001b[39m\u001b[38;5;124mhighlightColor\u001b[39m\u001b[38;5;124m\"\u001b[39m:[\u001b[38;5;241m252\u001b[39m,\u001b[38;5;241m242\u001b[39m,\u001b[38;5;241m26\u001b[39m,\u001b[38;5;241m255\u001b[39m],\u001b[38;5;124m\"\u001b[39m\u001b[38;5;124mcolumns\u001b[39m\u001b[38;5;124m\"\u001b[39m:{\u001b[38;5;124m\"\u001b[39m\u001b[38;5;124mhex_id\u001b[39m\u001b[38;5;124m\"\u001b[39m:\u001b[38;5;124m\"\u001b[39m\u001b[38;5;124mh3\u001b[39m\u001b[38;5;124m\"\u001b[39m},\u001b[38;5;124m\"\u001b[39m\u001b[38;5;124misVisible\u001b[39m\u001b[38;5;124m\"\u001b[39m:true,\u001b[38;5;124m\"\u001b[39m\u001b[38;5;124mvisConfig\u001b[39m\u001b[38;5;124m\"\u001b[39m:{\u001b[38;5;124m\"\u001b[39m\u001b[38;5;124mcolorRange\u001b[39m\u001b[38;5;124m\"\u001b[39m:{\u001b[38;5;124m\"\u001b[39m\u001b[38;5;124mname\u001b[39m\u001b[38;5;124m\"\u001b[39m:\u001b[38;5;124m\"\u001b[39m\u001b[38;5;124mUber Viz Diverging 4\u001b[39m\u001b[38;5;124m\"\u001b[39m,\u001b[38;5;124m\"\u001b[39m\u001b[38;5;124mtype\u001b[39m\u001b[38;5;124m\"\u001b[39m:\u001b[38;5;124m\"\u001b[39m\u001b[38;5;124mdiverging\u001b[39m\u001b[38;5;124m\"\u001b[39m,\u001b[38;5;124m\"\u001b[39m\u001b[38;5;124mcategory\u001b[39m\u001b[38;5;124m\"\u001b[39m:\u001b[38;5;124m\"\u001b[39m\u001b[38;5;124mUber\u001b[39m\u001b[38;5;124m\"\u001b[39m,\u001b[38;5;124m\"\u001b[39m\u001b[38;5;124mcolors\u001b[39m\u001b[38;5;124m\"\u001b[39m:[\u001b[38;5;124m\"\u001b[39m\u001b[38;5;124m#00939C\u001b[39m\u001b[38;5;124m\"\u001b[39m,\u001b[38;5;124m\"\u001b[39m\u001b[38;5;124m#49A6AE\u001b[39m\u001b[38;5;124m\"\u001b[39m,\u001b[38;5;124m\"\u001b[39m\u001b[38;5;124m#71BABF\u001b[39m\u001b[38;5;124m\"\u001b[39m,\u001b[38;5;124m\"\u001b[39m\u001b[38;5;124m#97CED1\u001b[39m\u001b[38;5;124m\"\u001b[39m,\u001b[38;5;124m\"\u001b[39m\u001b[38;5;124m#BAE1E2\u001b[39m\u001b[38;5;124m\"\u001b[39m,\u001b[38;5;124m\"\u001b[39m\u001b[38;5;124m#FEEEE8\u001b[39m\u001b[38;5;124m\"\u001b[39m,\u001b[38;5;124m\"\u001b[39m\u001b[38;5;124m#F8C0AA\u001b[39m\u001b[38;5;124m\"\u001b[39m,\u001b[38;5;124m\"\u001b[39m\u001b[38;5;124m#F2A587\u001b[39m\u001b[38;5;124m\"\u001b[39m,\u001b[38;5;124m\"\u001b[39m\u001b[38;5;124m#E68059\u001b[39m\u001b[38;5;124m\"\u001b[39m,\u001b[38;5;124m\"\u001b[39m\u001b[38;5;124m#D55A2B\u001b[39m\u001b[38;5;124m\"\u001b[39m,\u001b[38;5;124m\"\u001b[39m\u001b[38;5;124m#C22E00\u001b[39m\u001b[38;5;124m\"\u001b[39m]},\u001b[38;5;124m\"\u001b[39m\u001b[38;5;124mfilled\u001b[39m\u001b[38;5;124m\"\u001b[39m:true,\u001b[38;5;124m\"\u001b[39m\u001b[38;5;124mopacity\u001b[39m\u001b[38;5;124m\"\u001b[39m:\u001b[38;5;241m0.9\u001b[39m,\u001b[38;5;124m\"\u001b[39m\u001b[38;5;124moutline\u001b[39m\u001b[38;5;124m\"\u001b[39m:false,\u001b[38;5;124m\"\u001b[39m\u001b[38;5;124mstrokeColor\u001b[39m\u001b[38;5;124m\"\u001b[39m:null,\u001b[38;5;124m\"\u001b[39m\u001b[38;5;124mstrokeColorRange\u001b[39m\u001b[38;5;124m\"\u001b[39m:{\u001b[38;5;124m\"\u001b[39m\u001b[38;5;124mname\u001b[39m\u001b[38;5;124m\"\u001b[39m:\u001b[38;5;124m\"\u001b[39m\u001b[38;5;124mGlobal Warming\u001b[39m\u001b[38;5;124m\"\u001b[39m,\u001b[38;5;124m\"\u001b[39m\u001b[38;5;124mtype\u001b[39m\u001b[38;5;124m\"\u001b[39m:\u001b[38;5;124m\"\u001b[39m\u001b[38;5;124msequential\u001b[39m\u001b[38;5;124m\"\u001b[39m,\u001b[38;5;124m\"\u001b[39m\u001b[38;5;124mcategory\u001b[39m\u001b[38;5;124m\"\u001b[39m:\u001b[38;5;124m\"\u001b[39m\u001b[38;5;124mUber\u001b[39m\u001b[38;5;124m\"\u001b[39m,\u001b[38;5;124m\"\u001b[39m\u001b[38;5;124mcolors\u001b[39m\u001b[38;5;124m\"\u001b[39m:[\u001b[38;5;124m\"\u001b[39m\u001b[38;5;124m#5A1846\u001b[39m\u001b[38;5;124m\"\u001b[39m,\u001b[38;5;124m\"\u001b[39m\u001b[38;5;124m#900C3F\u001b[39m\u001b[38;5;124m\"\u001b[39m,\u001b[38;5;124m\"\u001b[39m\u001b[38;5;124m#C70039\u001b[39m\u001b[38;5;124m\"\u001b[39m,\u001b[38;5;124m\"\u001b[39m\u001b[38;5;124m#E3611C\u001b[39m\u001b[38;5;124m\"\u001b[39m,\u001b[38;5;124m\"\u001b[39m\u001b[38;5;124m#F1920E\u001b[39m\u001b[38;5;124m\"\u001b[39m,\u001b[38;5;124m\"\u001b[39m\u001b[38;5;124m#FFC300\u001b[39m\u001b[38;5;124m\"\u001b[39m]},\u001b[38;5;124m\"\u001b[39m\u001b[38;5;124mstrokeOpacity\u001b[39m\u001b[38;5;124m\"\u001b[39m:\u001b[38;5;241m0.8\u001b[39m,\u001b[38;5;124m\"\u001b[39m\u001b[38;5;124mthickness\u001b[39m\u001b[38;5;124m\"\u001b[39m:\u001b[38;5;241m2\u001b[39m,\u001b[38;5;124m\"\u001b[39m\u001b[38;5;124mcoverage\u001b[39m\u001b[38;5;124m\"\u001b[39m:\u001b[38;5;241m0.95\u001b[39m,\u001b[38;5;124m\"\u001b[39m\u001b[38;5;124menable3d\u001b[39m\u001b[38;5;124m\"\u001b[39m:false,\u001b[38;5;124m\"\u001b[39m\u001b[38;5;124msizeRange\u001b[39m\u001b[38;5;124m\"\u001b[39m:[\u001b[38;5;241m0\u001b[39m,\u001b[38;5;241m500\u001b[39m],\u001b[38;5;124m\"\u001b[39m\u001b[38;5;124mcoverageRange\u001b[39m\u001b[38;5;124m\"\u001b[39m:[\u001b[38;5;241m0\u001b[39m,\u001b[38;5;241m1\u001b[39m],\u001b[38;5;124m\"\u001b[39m\u001b[38;5;124melevationScale\u001b[39m\u001b[38;5;124m\"\u001b[39m:\u001b[38;5;241m5\u001b[39m,\u001b[38;5;124m\"\u001b[39m\u001b[38;5;124menableElevationZoomFactor\u001b[39m\u001b[38;5;124m\"\u001b[39m:true},\u001b[38;5;124m\"\u001b[39m\u001b[38;5;124mhidden\u001b[39m\u001b[38;5;124m\"\u001b[39m:false,\u001b[38;5;124m\"\u001b[39m\u001b[38;5;124mtextLabel\u001b[39m\u001b[38;5;124m\"\u001b[39m:[{\u001b[38;5;124m\"\u001b[39m\u001b[38;5;124mfield\u001b[39m\u001b[38;5;124m\"\u001b[39m:null,\u001b[38;5;124m\"\u001b[39m\u001b[38;5;124mcolor\u001b[39m\u001b[38;5;124m\"\u001b[39m:[\u001b[38;5;241m255\u001b[39m,\u001b[38;5;241m255\u001b[39m,\u001b[38;5;241m255\u001b[39m],\u001b[38;5;124m\"\u001b[39m\u001b[38;5;124msize\u001b[39m\u001b[38;5;124m\"\u001b[39m:\u001b[38;5;241m18\u001b[39m,\u001b[38;5;124m\"\u001b[39m\u001b[38;5;124moffset\u001b[39m\u001b[38;5;124m\"\u001b[39m:[\u001b[38;5;241m0\u001b[39m,\u001b[38;5;241m0\u001b[39m],\u001b[38;5;124m\"\u001b[39m\u001b[38;5;124manchor\u001b[39m\u001b[38;5;124m\"\u001b[39m:\u001b[38;5;124m\"\u001b[39m\u001b[38;5;124mmiddle\u001b[39m\u001b[38;5;124m\"\u001b[39m,\u001b[38;5;124m\"\u001b[39m\u001b[38;5;124malignment\u001b[39m\u001b[38;5;124m\"\u001b[39m:\u001b[38;5;124m\"\u001b[39m\u001b[38;5;124mcenter\u001b[39m\u001b[38;5;124m\"\u001b[39m,\u001b[38;5;124m\"\u001b[39m\u001b[38;5;124moutlineWidth\u001b[39m\u001b[38;5;124m\"\u001b[39m:\u001b[38;5;241m0\u001b[39m,\u001b[38;5;124m\"\u001b[39m\u001b[38;5;124moutlineColor\u001b[39m\u001b[38;5;124m\"\u001b[39m:[\u001b[38;5;241m255\u001b[39m,\u001b[38;5;241m0\u001b[39m,\u001b[38;5;241m0\u001b[39m,\u001b[38;5;241m255\u001b[39m],\u001b[38;5;124m\"\u001b[39m\u001b[38;5;124mbackground\u001b[39m\u001b[38;5;124m\"\u001b[39m:false,\u001b[38;5;124m\"\u001b[39m\u001b[38;5;124mbackgroundColor\u001b[39m\u001b[38;5;124m\"\u001b[39m:[\u001b[38;5;241m0\u001b[39m,\u001b[38;5;241m0\u001b[39m,\u001b[38;5;241m200\u001b[39m,\u001b[38;5;241m255\u001b[39m]}]},\u001b[38;5;124m\"\u001b[39m\u001b[38;5;124mvisualChannels\u001b[39m\u001b[38;5;124m\"\u001b[39m:{\u001b[38;5;124m\"\u001b[39m\u001b[38;5;124mcolorField\u001b[39m\u001b[38;5;124m\"\u001b[39m:{\u001b[38;5;124m\"\u001b[39m\u001b[38;5;124mname\u001b[39m\u001b[38;5;124m\"\u001b[39m:\u001b[38;5;124m\"\u001b[39m\u001b[38;5;124mride_count\u001b[39m\u001b[38;5;124m\"\u001b[39m,\u001b[38;5;124m\"\u001b[39m\u001b[38;5;124mtype\u001b[39m\u001b[38;5;124m\"\u001b[39m:\u001b[38;5;124m\"\u001b[39m\u001b[38;5;124minteger\u001b[39m\u001b[38;5;124m\"\u001b[39m},\u001b[38;5;124m\"\u001b[39m\u001b[38;5;124mcolorScale\u001b[39m\u001b[38;5;124m\"\u001b[39m:\u001b[38;5;124m\"\u001b[39m\u001b[38;5;124mquantile\u001b[39m\u001b[38;5;124m\"\u001b[39m,\u001b[38;5;124m\"\u001b[39m\u001b[38;5;124mstrokeColorField\u001b[39m\u001b[38;5;124m\"\u001b[39m:null,\u001b[38;5;124m\"\u001b[39m\u001b[38;5;124mstrokeColorScale\u001b[39m\u001b[38;5;124m\"\u001b[39m:\u001b[38;5;124m\"\u001b[39m\u001b[38;5;124mquantile\u001b[39m\u001b[38;5;124m\"\u001b[39m,\u001b[38;5;124m\"\u001b[39m\u001b[38;5;124msizeField\u001b[39m\u001b[38;5;124m\"\u001b[39m:null,\u001b[38;5;124m\"\u001b[39m\u001b[38;5;124msizeScale\u001b[39m\u001b[38;5;124m\"\u001b[39m:\u001b[38;5;124m\"\u001b[39m\u001b[38;5;124mlinear\u001b[39m\u001b[38;5;124m\"\u001b[39m,\u001b[38;5;124m\"\u001b[39m\u001b[38;5;124mcoverageField\u001b[39m\u001b[38;5;124m\"\u001b[39m:null,\u001b[38;5;124m\"\u001b[39m\u001b[38;5;124mcoverageScale\u001b[39m\u001b[38;5;124m\"\u001b[39m:\u001b[38;5;124m\"\u001b[39m\u001b[38;5;124mlinear\u001b[39m\u001b[38;5;124m\"\u001b[39m}}],\u001b[38;5;124m\"\u001b[39m\u001b[38;5;124meffects\u001b[39m\u001b[38;5;124m\"\u001b[39m:[],\u001b[38;5;124m\"\u001b[39m\u001b[38;5;124minteractionConfig\u001b[39m\u001b[38;5;124m\"\u001b[39m:{\u001b[38;5;124m\"\u001b[39m\u001b[38;5;124mtooltip\u001b[39m\u001b[38;5;124m\"\u001b[39m:{\u001b[38;5;124m\"\u001b[39m\u001b[38;5;124mfieldsToShow\u001b[39m\u001b[38;5;124m\"\u001b[39m:{\u001b[38;5;124m\"\u001b[39m\u001b[38;5;124mbdmwjq\u001b[39m\u001b[38;5;124m\"\u001b[39m:[{\u001b[38;5;124m\"\u001b[39m\u001b[38;5;124mname\u001b[39m\u001b[38;5;124m\"\u001b[39m:\u001b[38;5;124m\"\u001b[39m\u001b[38;5;124mh3\u001b[39m\u001b[38;5;124m\"\u001b[39m,\u001b[38;5;124m\"\u001b[39m\u001b[38;5;124mformat\u001b[39m\u001b[38;5;124m\"\u001b[39m:null},{\u001b[38;5;124m\"\u001b[39m\u001b[38;5;124mname\u001b[39m\u001b[38;5;124m\"\u001b[39m:\u001b[38;5;124m\"\u001b[39m\u001b[38;5;124mride_count\u001b[39m\u001b[38;5;124m\"\u001b[39m,\u001b[38;5;124m\"\u001b[39m\u001b[38;5;124mformat\u001b[39m\u001b[38;5;124m\"\u001b[39m:null}],\u001b[38;5;124m\"\u001b[39m\u001b[38;5;124m-vrcv5w\u001b[39m\u001b[38;5;124m\"\u001b[39m:[{\u001b[38;5;124m\"\u001b[39m\u001b[38;5;124mname\u001b[39m\u001b[38;5;124m\"\u001b[39m:\u001b[38;5;124m\"\u001b[39m\u001b[38;5;124m0\u001b[39m\u001b[38;5;124m\"\u001b[39m,\u001b[38;5;124m\"\u001b[39m\u001b[38;5;124mformat\u001b[39m\u001b[38;5;124m\"\u001b[39m:null},{\u001b[38;5;124m\"\u001b[39m\u001b[38;5;124mname\u001b[39m\u001b[38;5;124m\"\u001b[39m:\u001b[38;5;124m\"\u001b[39m\u001b[38;5;124mRides lost \u001b[39m\u001b[38;5;124m\"\u001b[39m,\u001b[38;5;124m\"\u001b[39m\u001b[38;5;124mformat\u001b[39m\u001b[38;5;124m\"\u001b[39m:null}],\u001b[38;5;124m\"\u001b[39m\u001b[38;5;124m9xmzs6\u001b[39m\u001b[38;5;124m\"\u001b[39m:[{\u001b[38;5;124m\"\u001b[39m\u001b[38;5;124mname\u001b[39m\u001b[38;5;124m\"\u001b[39m:\u001b[38;5;124m\"\u001b[39m\u001b[38;5;124mname\u001b[39m\u001b[38;5;124m\"\u001b[39m,\u001b[38;5;124m\"\u001b[39m\u001b[38;5;124mformat\u001b[39m\u001b[38;5;124m\"\u001b[39m:null},{\u001b[38;5;124m\"\u001b[39m\u001b[38;5;124mname\u001b[39m\u001b[38;5;124m\"\u001b[39m:\u001b[38;5;124m\"\u001b[39m\u001b[38;5;124mbuffer_radius_m\u001b[39m\u001b[38;5;124m\"\u001b[39m,\u001b[38;5;124m\"\u001b[39m\u001b[38;5;124mformat\u001b[39m\u001b[38;5;124m\"\u001b[39m:null},{\u001b[38;5;124m\"\u001b[39m\u001b[38;5;124mname\u001b[39m\u001b[38;5;124m\"\u001b[39m:\u001b[38;5;124m\"\u001b[39m\u001b[38;5;124mallowed_vehicles_count_max\u001b[39m\u001b[38;5;124m\"\u001b[39m,\u001b[38;5;124m\"\u001b[39m\u001b[38;5;124mformat\u001b[39m\u001b[38;5;124m\"\u001b[39m:null},{\u001b[38;5;124m\"\u001b[39m\u001b[38;5;124mname\u001b[39m\u001b[38;5;124m\"\u001b[39m:\u001b[38;5;124m\"\u001b[39m\u001b[38;5;124mdeployment_priority\u001b[39m\u001b[38;5;124m\"\u001b[39m,\u001b[38;5;124m\"\u001b[39m\u001b[38;5;124mformat\u001b[39m\u001b[38;5;124m\"\u001b[39m:null},{\u001b[38;5;124m\"\u001b[39m\u001b[38;5;124mname\u001b[39m\u001b[38;5;124m\"\u001b[39m:\u001b[38;5;124m\"\u001b[39m\u001b[38;5;124mimage_urls\u001b[39m\u001b[38;5;124m\"\u001b[39m,\u001b[38;5;124m\"\u001b[39m\u001b[38;5;124mformat\u001b[39m\u001b[38;5;124m\"\u001b[39m:null}]},\u001b[38;5;124m\"\u001b[39m\u001b[38;5;124mcompareMode\u001b[39m\u001b[38;5;124m\"\u001b[39m:false,\u001b[38;5;124m\"\u001b[39m\u001b[38;5;124mcompareType\u001b[39m\u001b[38;5;124m\"\u001b[39m:\u001b[38;5;124m\"\u001b[39m\u001b[38;5;124mabsolute\u001b[39m\u001b[38;5;124m\"\u001b[39m,\u001b[38;5;124m\"\u001b[39m\u001b[38;5;124menabled\u001b[39m\u001b[38;5;124m\"\u001b[39m:true},\u001b[38;5;124m\"\u001b[39m\u001b[38;5;124mbrush\u001b[39m\u001b[38;5;124m\"\u001b[39m:{\u001b[38;5;124m\"\u001b[39m\u001b[38;5;124msize\u001b[39m\u001b[38;5;124m\"\u001b[39m:\u001b[38;5;241m0.5\u001b[39m,\u001b[38;5;124m\"\u001b[39m\u001b[38;5;124menabled\u001b[39m\u001b[38;5;124m\"\u001b[39m:false},\u001b[38;5;124m\"\u001b[39m\u001b[38;5;124mgeocoder\u001b[39m\u001b[38;5;124m\"\u001b[39m:{\u001b[38;5;124m\"\u001b[39m\u001b[38;5;124menabled\u001b[39m\u001b[38;5;124m\"\u001b[39m:false},\u001b[38;5;124m\"\u001b[39m\u001b[38;5;124mcoordinate\u001b[39m\u001b[38;5;124m\"\u001b[39m:{\u001b[38;5;124m\"\u001b[39m\u001b[38;5;124menabled\u001b[39m\u001b[38;5;124m\"\u001b[39m:false}},\u001b[38;5;124m\"\u001b[39m\u001b[38;5;124mlayerBlending\u001b[39m\u001b[38;5;124m\"\u001b[39m:\u001b[38;5;124m\"\u001b[39m\u001b[38;5;124mnormal\u001b[39m\u001b[38;5;124m\"\u001b[39m,\u001b[38;5;124m\"\u001b[39m\u001b[38;5;124moverlayBlending\u001b[39m\u001b[38;5;124m\"\u001b[39m:\u001b[38;5;124m\"\u001b[39m\u001b[38;5;124mscreen\u001b[39m\u001b[38;5;124m\"\u001b[39m,\u001b[38;5;124m\"\u001b[39m\u001b[38;5;124msplitMaps\u001b[39m\u001b[38;5;124m\"\u001b[39m:[],\u001b[38;5;124m\"\u001b[39m\u001b[38;5;124manimationConfig\u001b[39m\u001b[38;5;124m\"\u001b[39m:{\u001b[38;5;124m\"\u001b[39m\u001b[38;5;124mcurrentTime\u001b[39m\u001b[38;5;124m\"\u001b[39m:null,\u001b[38;5;124m\"\u001b[39m\u001b[38;5;124mspeed\u001b[39m\u001b[38;5;124m\"\u001b[39m:\u001b[38;5;241m1\u001b[39m},\u001b[38;5;124m\"\u001b[39m\u001b[38;5;124meditor\u001b[39m\u001b[38;5;124m\"\u001b[39m:{\u001b[38;5;124m\"\u001b[39m\u001b[38;5;124mfeatures\u001b[39m\u001b[38;5;124m\"\u001b[39m:[],\u001b[38;5;124m\"\u001b[39m\u001b[38;5;124mvisible\u001b[39m\u001b[38;5;124m\"\u001b[39m:true}},\u001b[38;5;124m\"\u001b[39m\u001b[38;5;124mmapState\u001b[39m\u001b[38;5;124m\"\u001b[39m:{\u001b[38;5;124m\"\u001b[39m\u001b[38;5;124mbearing\u001b[39m\u001b[38;5;124m\"\u001b[39m:\u001b[38;5;241m0\u001b[39m,\u001b[38;5;124m\"\u001b[39m\u001b[38;5;124mdragRotate\u001b[39m\u001b[38;5;124m\"\u001b[39m:false,\u001b[38;5;124m\"\u001b[39m\u001b[38;5;124mlatitude\u001b[39m\u001b[38;5;124m\"\u001b[39m:\u001b[38;5;241m52.422224033413926\u001b[39m,\u001b[38;5;124m\"\u001b[39m\u001b[38;5;124mlongitude\u001b[39m\u001b[38;5;124m\"\u001b[39m:\u001b[38;5;241m10.730524803241252\u001b[39m,\u001b[38;5;124m\"\u001b[39m\u001b[38;5;124mpitch\u001b[39m\u001b[38;5;124m\"\u001b[39m:\u001b[38;5;241m0\u001b[39m,\u001b[38;5;124m\"\u001b[39m\u001b[38;5;124mzoom\u001b[39m\u001b[38;5;124m\"\u001b[39m:\u001b[38;5;241m12.519725885567409\u001b[39m,\u001b[38;5;124m\"\u001b[39m\u001b[38;5;124misSplit\u001b[39m\u001b[38;5;124m\"\u001b[39m:false,\u001b[38;5;124m\"\u001b[39m\u001b[38;5;124misViewportSynced\u001b[39m\u001b[38;5;124m\"\u001b[39m:true,\u001b[38;5;124m\"\u001b[39m\u001b[38;5;124misZoomLocked\u001b[39m\u001b[38;5;124m\"\u001b[39m:false,\u001b[38;5;124m\"\u001b[39m\u001b[38;5;124msplitMapViewports\u001b[39m\u001b[38;5;124m\"\u001b[39m:[]},\u001b[38;5;124m\"\u001b[39m\u001b[38;5;124mmapStyle\u001b[39m\u001b[38;5;124m\"\u001b[39m:{\u001b[38;5;124m\"\u001b[39m\u001b[38;5;124mstyleType\u001b[39m\u001b[38;5;124m\"\u001b[39m:\u001b[38;5;124m\"\u001b[39m\u001b[38;5;124mdark-matter\u001b[39m\u001b[38;5;124m\"\u001b[39m,\u001b[38;5;124m\"\u001b[39m\u001b[38;5;124mtopLayerGroups\u001b[39m\u001b[38;5;124m\"\u001b[39m:{},\u001b[38;5;124m\"\u001b[39m\u001b[38;5;124mvisibleLayerGroups\u001b[39m\u001b[38;5;124m\"\u001b[39m:{\u001b[38;5;124m\"\u001b[39m\u001b[38;5;124mlabel\u001b[39m\u001b[38;5;124m\"\u001b[39m:true,\u001b[38;5;124m\"\u001b[39m\u001b[38;5;124mroad\u001b[39m\u001b[38;5;124m\"\u001b[39m:true,\u001b[38;5;124m\"\u001b[39m\u001b[38;5;124mborder\u001b[39m\u001b[38;5;124m\"\u001b[39m:false,\u001b[38;5;124m\"\u001b[39m\u001b[38;5;124mbuilding\u001b[39m\u001b[38;5;124m\"\u001b[39m:true,\u001b[38;5;124m\"\u001b[39m\u001b[38;5;124mwater\u001b[39m\u001b[38;5;124m\"\u001b[39m:true,\u001b[38;5;124m\"\u001b[39m\u001b[38;5;124mland\u001b[39m\u001b[38;5;124m\"\u001b[39m:true,\u001b[38;5;124m\"\u001b[39m\u001b[38;5;124m3d building\u001b[39m\u001b[38;5;124m\"\u001b[39m:false},\u001b[38;5;124m\"\u001b[39m\u001b[38;5;124mthreeDBuildingColor\u001b[39m\u001b[38;5;124m\"\u001b[39m:[\u001b[38;5;241m15.035172933000911\u001b[39m,\u001b[38;5;241m15.035172933000911\u001b[39m,\u001b[38;5;241m15.035172933000911\u001b[39m],\u001b[38;5;124m\"\u001b[39m\u001b[38;5;124mbackgroundColor\u001b[39m\u001b[38;5;124m\"\u001b[39m:[\u001b[38;5;241m0\u001b[39m,\u001b[38;5;241m0\u001b[39m,\u001b[38;5;241m0\u001b[39m],\u001b[38;5;124m\"\u001b[39m\u001b[38;5;124mmapStyles\u001b[39m\u001b[38;5;124m\"\u001b[39m:{}}}}}\n",
      "\u001b[0;31mNameError\u001b[0m: name 'true' is not defined"
     ]
    }
   ],
   "source": [
    "data = {{\"version\":\"v1\",\"config\":{\"visState\":{\"filters\":[],\"layers\":[{\"id\":\"lqrcktx\",\"type\":\"geojson\",\"config\":{\"dataId\":\"9xmzs6\",\"columnMode\":\"geojson\",\"label\":\"WOB DPZs\",\"color\":[254,242,26],\"highlightColor\":[252,242,26,255],\"columns\":{\"geojson\":\"_geojson\"},\"isVisible\":true,\"visConfig\":{\"opacity\":0.8,\"strokeOpacity\":0.8,\"thickness\":3.5,\"strokeColor\":[254,242,26],\"colorRange\":{\"name\":\"Global Warming\",\"type\":\"sequential\",\"category\":\"Uber\",\"colors\":[\"#5A1846\",\"#900C3F\",\"#C70039\",\"#E3611C\",\"#F1920E\",\"#FFC300\"]},\"strokeColorRange\":{\"name\":\"Global Warming\",\"type\":\"sequential\",\"category\":\"Uber\",\"colors\":[\"#5A1846\",\"#900C3F\",\"#C70039\",\"#E3611C\",\"#F1920E\",\"#FFC300\"]},\"radius\":10,\"sizeRange\":[0,10],\"radiusRange\":[0,50],\"heightRange\":[0,500],\"elevationScale\":5,\"stroked\":true,\"filled\":true,\"enable3d\":false,\"wireframe\":false,\"fixedHeight\":false},\"hidden\":false,\"textLabel\":[{\"field\":null,\"color\":[255,255,255],\"size\":18,\"offset\":[0,0],\"anchor\":\"start\",\"alignment\":\"center\",\"outlineWidth\":0,\"outlineColor\":[255,0,0,255],\"background\":false,\"backgroundColor\":[0,0,200,255]}]},\"visualChannels\":{\"colorField\":null,\"colorScale\":\"quantile\",\"strokeColorField\":null,\"strokeColorScale\":\"quantile\",\"sizeField\":null,\"sizeScale\":\"linear\",\"heightField\":null,\"heightScale\":\"linear\",\"radiusField\":null,\"radiusScale\":\"linear\"}},{\"id\":\"f5ml7pr\",\"type\":\"point\",\"config\":{\"dataId\":\"-vrcv5w\",\"columnMode\":\"points\",\"label\":\"point\",\"color\":[34,63,154],\"highlightColor\":[252,242,26,255],\"columns\":{\"lat\":\"latitude\",\"lng\":\"longitude\"},\"isVisible\":true,\"visConfig\":{\"radius\":10,\"fixedRadius\":false,\"opacity\":0.8,\"outline\":false,\"thickness\":2,\"strokeColor\":null,\"colorRange\":{\"name\":\"ColorBrewer PRGn-10\",\"type\":\"diverging\",\"category\":\"ColorBrewer\",\"colors\":[\"#40004b\",\"#762a83\",\"#9970ab\",\"#c2a5cf\",\"#e7d4e8\",\"#d9f0d3\",\"#a6dba0\",\"#5aae61\",\"#1b7837\",\"#00441b\"]},\"strokeColorRange\":{\"name\":\"Global Warming\",\"type\":\"sequential\",\"category\":\"Uber\",\"colors\":[\"#5A1846\",\"#900C3F\",\"#C70039\",\"#E3611C\",\"#F1920E\",\"#FFC300\"]},\"radiusRange\":[15.4,197.4],\"filled\":true,\"billboard\":false,\"allowHover\":true,\"showNeighborOnHover\":false,\"showHighlightColor\":true},\"hidden\":false,\"textLabel\":[{\"field\":null,\"color\":[255,255,255],\"size\":18,\"offset\":[0,0],\"anchor\":\"start\",\"alignment\":\"center\",\"outlineWidth\":0,\"outlineColor\":[255,0,0,255],\"background\":false,\"backgroundColor\":[0,0,200,255]}]},\"visualChannels\":{\"colorField\":{\"name\":\"0\",\"type\":\"integer\"},\"colorScale\":\"quantile\",\"strokeColorField\":null,\"strokeColorScale\":\"quantile\",\"sizeField\":{\"name\":\"Rides lost \",\"type\":\"integer\"},\"sizeScale\":\"sqrt\"}},{\"id\":\"mpw8q\",\"type\":\"hexagonId\",\"config\":{\"dataId\":\"bdmwjq\",\"label\":\"rides.geojson\",\"color\":[130,154,227],\"highlightColor\":[252,242,26,255],\"columns\":{\"hex_id\":\"h3\"},\"isVisible\":true,\"visConfig\":{\"colorRange\":{\"name\":\"Uber Viz Diverging 4\",\"type\":\"diverging\",\"category\":\"Uber\",\"colors\":[\"#00939C\",\"#49A6AE\",\"#71BABF\",\"#97CED1\",\"#BAE1E2\",\"#FEEEE8\",\"#F8C0AA\",\"#F2A587\",\"#E68059\",\"#D55A2B\",\"#C22E00\"]},\"filled\":true,\"opacity\":0.9,\"outline\":false,\"strokeColor\":null,\"strokeColorRange\":{\"name\":\"Global Warming\",\"type\":\"sequential\",\"category\":\"Uber\",\"colors\":[\"#5A1846\",\"#900C3F\",\"#C70039\",\"#E3611C\",\"#F1920E\",\"#FFC300\"]},\"strokeOpacity\":0.8,\"thickness\":2,\"coverage\":0.95,\"enable3d\":false,\"sizeRange\":[0,500],\"coverageRange\":[0,1],\"elevationScale\":5,\"enableElevationZoomFactor\":true},\"hidden\":false,\"textLabel\":[{\"field\":null,\"color\":[255,255,255],\"size\":18,\"offset\":[0,0],\"anchor\":\"middle\",\"alignment\":\"center\",\"outlineWidth\":0,\"outlineColor\":[255,0,0,255],\"background\":false,\"backgroundColor\":[0,0,200,255]}]},\"visualChannels\":{\"colorField\":{\"name\":\"ride_count\",\"type\":\"integer\"},\"colorScale\":\"quantile\",\"strokeColorField\":null,\"strokeColorScale\":\"quantile\",\"sizeField\":null,\"sizeScale\":\"linear\",\"coverageField\":null,\"coverageScale\":\"linear\"}}],\"effects\":[],\"interactionConfig\":{\"tooltip\":{\"fieldsToShow\":{\"bdmwjq\":[{\"name\":\"h3\",\"format\":null},{\"name\":\"ride_count\",\"format\":null}],\"-vrcv5w\":[{\"name\":\"0\",\"format\":null},{\"name\":\"Rides lost \",\"format\":null}],\"9xmzs6\":[{\"name\":\"name\",\"format\":null},{\"name\":\"buffer_radius_m\",\"format\":null},{\"name\":\"allowed_vehicles_count_max\",\"format\":null},{\"name\":\"deployment_priority\",\"format\":null},{\"name\":\"image_urls\",\"format\":null}]},\"compareMode\":false,\"compareType\":\"absolute\",\"enabled\":true},\"brush\":{\"size\":0.5,\"enabled\":false},\"geocoder\":{\"enabled\":false},\"coordinate\":{\"enabled\":false}},\"layerBlending\":\"normal\",\"overlayBlending\":\"screen\",\"splitMaps\":[],\"animationConfig\":{\"currentTime\":null,\"speed\":1},\"editor\":{\"features\":[],\"visible\":true}},\"mapState\":{\"bearing\":0,\"dragRotate\":false,\"latitude\":52.422224033413926,\"longitude\":10.730524803241252,\"pitch\":0,\"zoom\":12.519725885567409,\"isSplit\":false,\"isViewportSynced\":true,\"isZoomLocked\":false,\"splitMapViewports\":[]},\"mapStyle\":{\"styleType\":\"dark-matter\",\"topLayerGroups\":{},\"visibleLayerGroups\":{\"label\":true,\"road\":true,\"border\":false,\"building\":true,\"water\":true,\"land\":true,\"3d building\":false},\"threeDBuildingColor\":[15.035172933000911,15.035172933000911,15.035172933000911],\"backgroundColor\":[0,0,0],\"mapStyles\":{}}}}}\n"
   ]
  },
  {
   "cell_type": "code",
   "execution_count": 5,
   "metadata": {},
   "outputs": [],
   "source": [
    "dpz = \"/Users/bolt/Documents/VSCode/Deployment_improvement/DPZs_Dec_24.geojson\""
   ]
  },
  {
   "cell_type": "code",
   "execution_count": 6,
   "metadata": {},
   "outputs": [],
   "source": [
    "dpz_gdf = gpd.read_file(dpz)"
   ]
  },
  {
   "cell_type": "code",
   "execution_count": 7,
   "metadata": {},
   "outputs": [
    {
     "data": {
      "text/html": [
       "<div>\n",
       "<style scoped>\n",
       "    .dataframe tbody tr th:only-of-type {\n",
       "        vertical-align: middle;\n",
       "    }\n",
       "\n",
       "    .dataframe tbody tr th {\n",
       "        vertical-align: top;\n",
       "    }\n",
       "\n",
       "    .dataframe thead th {\n",
       "        text-align: right;\n",
       "    }\n",
       "</style>\n",
       "<table border=\"1\" class=\"dataframe\">\n",
       "  <thead>\n",
       "    <tr style=\"text-align: right;\">\n",
       "      <th></th>\n",
       "      <th>name</th>\n",
       "      <th>description</th>\n",
       "      <th>buffer_radius_m</th>\n",
       "      <th>allowed_vehicles_count_max</th>\n",
       "      <th>allowed_vehicles_count_min</th>\n",
       "      <th>demand_level</th>\n",
       "      <th>deployment_priority</th>\n",
       "      <th>image_urls</th>\n",
       "      <th>geometry</th>\n",
       "    </tr>\n",
       "  </thead>\n",
       "  <tbody>\n",
       "    <tr>\n",
       "      <th>0</th>\n",
       "      <td>[Großer Stern 1, 10557 Berlin]</td>\n",
       "      <td>None</td>\n",
       "      <td>50</td>\n",
       "      <td>7</td>\n",
       "      <td>7.0</td>\n",
       "      <td>NaN</td>\n",
       "      <td>high</td>\n",
       "      <td>[ ]</td>\n",
       "      <td>POLYGON ((13.35258 52.51475, 13.35258 52.51480...</td>\n",
       "    </tr>\n",
       "    <tr>\n",
       "      <th>1</th>\n",
       "      <td>Jelbi Burgstraße/Friedrichsbrücke</td>\n",
       "      <td>None</td>\n",
       "      <td>50</td>\n",
       "      <td>8</td>\n",
       "      <td>1.0</td>\n",
       "      <td>NaN</td>\n",
       "      <td>high</td>\n",
       "      <td>None</td>\n",
       "      <td>POLYGON ((13.40060 52.52114, 13.40070 52.52115...</td>\n",
       "    </tr>\n",
       "    <tr>\n",
       "      <th>2</th>\n",
       "      <td>Jelbi Charlottenstraße/Rosmarinstraße</td>\n",
       "      <td>None</td>\n",
       "      <td>50</td>\n",
       "      <td>6</td>\n",
       "      <td>NaN</td>\n",
       "      <td>NaN</td>\n",
       "      <td>high</td>\n",
       "      <td>None</td>\n",
       "      <td>POLYGON ((13.39083 52.51627, 13.39086 52.51609...</td>\n",
       "    </tr>\n",
       "    <tr>\n",
       "      <th>3</th>\n",
       "      <td>Abstellfläche Senat/ Linienstraße 163</td>\n",
       "      <td>None</td>\n",
       "      <td>40</td>\n",
       "      <td>6</td>\n",
       "      <td>6.0</td>\n",
       "      <td>NaN</td>\n",
       "      <td>medium</td>\n",
       "      <td>None</td>\n",
       "      <td>POLYGON ((13.39618 52.52835, 13.39619 52.52833...</td>\n",
       "    </tr>\n",
       "    <tr>\n",
       "      <th>4</th>\n",
       "      <td>VRAO Kleine Hamburger Str. 4</td>\n",
       "      <td>None</td>\n",
       "      <td>45</td>\n",
       "      <td>6</td>\n",
       "      <td>6.0</td>\n",
       "      <td>NaN</td>\n",
       "      <td>high</td>\n",
       "      <td>None</td>\n",
       "      <td>POLYGON ((13.39430 52.52840, 13.39421 52.52844...</td>\n",
       "    </tr>\n",
       "  </tbody>\n",
       "</table>\n",
       "</div>"
      ],
      "text/plain": [
       "                                    name description  buffer_radius_m  \\\n",
       "0         [Großer Stern 1, 10557 Berlin]        None               50   \n",
       "1      Jelbi Burgstraße/Friedrichsbrücke        None               50   \n",
       "2  Jelbi Charlottenstraße/Rosmarinstraße        None               50   \n",
       "3  Abstellfläche Senat/ Linienstraße 163        None               40   \n",
       "4           VRAO Kleine Hamburger Str. 4        None               45   \n",
       "\n",
       "   allowed_vehicles_count_max  allowed_vehicles_count_min  demand_level  \\\n",
       "0                           7                         7.0           NaN   \n",
       "1                           8                         1.0           NaN   \n",
       "2                           6                         NaN           NaN   \n",
       "3                           6                         6.0           NaN   \n",
       "4                           6                         6.0           NaN   \n",
       "\n",
       "  deployment_priority image_urls  \\\n",
       "0                high        [ ]   \n",
       "1                high       None   \n",
       "2                high       None   \n",
       "3              medium       None   \n",
       "4                high       None   \n",
       "\n",
       "                                            geometry  \n",
       "0  POLYGON ((13.35258 52.51475, 13.35258 52.51480...  \n",
       "1  POLYGON ((13.40060 52.52114, 13.40070 52.52115...  \n",
       "2  POLYGON ((13.39083 52.51627, 13.39086 52.51609...  \n",
       "3  POLYGON ((13.39618 52.52835, 13.39619 52.52833...  \n",
       "4  POLYGON ((13.39430 52.52840, 13.39421 52.52844...  "
      ]
     },
     "execution_count": 7,
     "metadata": {},
     "output_type": "execute_result"
    }
   ],
   "source": [
    "dpz_gdf.head()"
   ]
  },
  {
   "cell_type": "code",
   "execution_count": 8,
   "metadata": {},
   "outputs": [],
   "source": [
    "dpz_hi = dpz_gdf[dpz_gdf['deployment_priority'] == 'high']"
   ]
  },
  {
   "cell_type": "code",
   "execution_count": 9,
   "metadata": {},
   "outputs": [],
   "source": [
    "dpz_mid = dpz_gdf[dpz_gdf['deployment_priority'] == 'medium']"
   ]
  },
  {
   "cell_type": "code",
   "execution_count": 10,
   "metadata": {},
   "outputs": [],
   "source": [
    "dpz_low = dpz_gdf[dpz_gdf['deployment_priority'] == 'low']"
   ]
  },
  {
   "cell_type": "code",
   "execution_count": 1,
   "metadata": {},
   "outputs": [
    {
     "ename": "NameError",
     "evalue": "name 'df_' is not defined",
     "output_type": "error",
     "traceback": [
      "\u001b[0;31m---------------------------------------------------------------------------\u001b[0m",
      "\u001b[0;31mNameError\u001b[0m                                 Traceback (most recent call last)",
      "Cell \u001b[0;32mIn[1], line 1\u001b[0m\n\u001b[0;32m----> 1\u001b[0m \u001b[43mdf_\u001b[49m\u001b[38;5;241m.\u001b[39mcolumns\n",
      "\u001b[0;31mNameError\u001b[0m: name 'df_' is not defined"
     ]
    }
   ],
   "source": [
    "df_.columns"
   ]
  },
  {
   "cell_type": "code",
   "execution_count": null,
   "metadata": {},
   "outputs": [],
   "source": []
  }
 ],
 "metadata": {
  "kernelspec": {
   "display_name": "Python 3",
   "language": "python",
   "name": "python3"
  },
  "language_info": {
   "codemirror_mode": {
    "name": "ipython",
    "version": 3
   },
   "file_extension": ".py",
   "mimetype": "text/x-python",
   "name": "python",
   "nbconvert_exporter": "python",
   "pygments_lexer": "ipython3",
   "version": "3.12.3"
  }
 },
 "nbformat": 4,
 "nbformat_minor": 2
}
